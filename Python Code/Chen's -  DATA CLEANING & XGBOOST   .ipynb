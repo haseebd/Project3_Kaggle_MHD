{
 "cells": [
  {
   "cell_type": "markdown",
   "metadata": {},
   "source": [
    "# Data Cleaning, feature creating and modeling"
   ]
  },
  {
   "cell_type": "markdown",
   "metadata": {},
   "source": [
    "### Uploading Packages"
   ]
  },
  {
   "cell_type": "code",
   "execution_count": 11,
   "metadata": {
    "collapsed": false
   },
   "outputs": [],
   "source": [
    "# importing packages\n",
    "import numpy as np # linear algebra\n",
    "import pandas as pd # data processing, CSV file I/O (e.g. pd.read_csv)\n",
    "import matplotlib.pyplot as plt\n",
    "import seaborn as sns\n",
    "from sklearn import model_selection, preprocessing\n",
    "import xgboost as xgb\n",
    "color = sns.color_palette()\n",
    "from xgboost.sklearn import XGBClassifier\n",
    "from sklearn import cross_validation, metrics   #Additional scklearn functions\n",
    "from sklearn.grid_search import GridSearchCV   #Perforing grid search\n",
    "%matplotlib inline\n",
    "from pandas.io.json import build_table_schema\n",
    "from pandas.plotting import scatter_matrix\n",
    "\n",
    "pd.options.mode.chained_assignment = None  # default='warn'\n",
    "pd.set_option('display.max_columns', 500)"
   ]
  },
  {
   "cell_type": "markdown",
   "metadata": {},
   "source": [
    "### Importing datasets & converting to data frames"
   ]
  },
  {
   "cell_type": "code",
   "execution_count": 209,
   "metadata": {
    "collapsed": false
   },
   "outputs": [],
   "source": [
    "#train and test datasets\n",
    "test = pd.read_csv(\"test_df.csv\")\n",
    "train = pd.read_csv(\"train_df.csv\")\n",
    "#macro dataset\n",
    "macro1 = pd.read_csv(\"Macro_Test.csv\")\n",
    "macro2 = pd.read_csv(\"Macro_Train.csv\")\n",
    "#macro 3 is added as for adding extra macro features to the model\n",
    "macro3 = pd.read_csv(\"macrodata.csv\")\n",
    "macro1 = pd.DataFrame(macro1)\n",
    "macro2 = pd.DataFrame(macro2)\n",
    "macro = pd.concat([macro2,macro1],axis = 0)"
   ]
  },
  {
   "cell_type": "code",
   "execution_count": 210,
   "metadata": {
    "collapsed": true
   },
   "outputs": [],
   "source": [
    "#Full Macro Data\n",
    "macro_full = pd.read_csv(\"macro.csv\", parse_dates=['timestamp'])"
   ]
  },
  {
   "cell_type": "code",
   "execution_count": 211,
   "metadata": {
    "collapsed": true
   },
   "outputs": [],
   "source": [
    "#adding new features - state and population\n",
    "extra_features = pd.read_csv('housing_new_features.csv')"
   ]
  },
  {
   "cell_type": "code",
   "execution_count": 212,
   "metadata": {
    "collapsed": false
   },
   "outputs": [
    {
     "data": {
      "text/html": [
       "<div>\n",
       "<style>\n",
       "    .dataframe thead tr:only-child th {\n",
       "        text-align: right;\n",
       "    }\n",
       "\n",
       "    .dataframe thead th {\n",
       "        text-align: left;\n",
       "    }\n",
       "\n",
       "    .dataframe tbody tr th {\n",
       "        vertical-align: top;\n",
       "    }\n",
       "</style>\n",
       "<table border=\"1\" class=\"dataframe\">\n",
       "  <thead>\n",
       "    <tr style=\"text-align: right;\">\n",
       "      <th></th>\n",
       "      <th>id</th>\n",
       "      <th>ration_popul</th>\n",
       "      <th>state</th>\n",
       "    </tr>\n",
       "  </thead>\n",
       "  <tbody>\n",
       "    <tr>\n",
       "      <th>0</th>\n",
       "      <td>1</td>\n",
       "      <td>155572</td>\n",
       "      <td>2</td>\n",
       "    </tr>\n",
       "    <tr>\n",
       "      <th>1</th>\n",
       "      <td>2</td>\n",
       "      <td>115352</td>\n",
       "      <td>2</td>\n",
       "    </tr>\n",
       "    <tr>\n",
       "      <th>2</th>\n",
       "      <td>3</td>\n",
       "      <td>101708</td>\n",
       "      <td>2</td>\n",
       "    </tr>\n",
       "    <tr>\n",
       "      <th>3</th>\n",
       "      <td>4</td>\n",
       "      <td>178473</td>\n",
       "      <td>2</td>\n",
       "    </tr>\n",
       "    <tr>\n",
       "      <th>4</th>\n",
       "      <td>5</td>\n",
       "      <td>108171</td>\n",
       "      <td>2</td>\n",
       "    </tr>\n",
       "  </tbody>\n",
       "</table>\n",
       "</div>"
      ],
      "text/plain": [
       "   id  ration_popul  state\n",
       "0   1        155572      2\n",
       "1   2        115352      2\n",
       "2   3        101708      2\n",
       "3   4        178473      2\n",
       "4   5        108171      2"
      ]
     },
     "execution_count": 212,
     "metadata": {},
     "output_type": "execute_result"
    }
   ],
   "source": [
    "extra_features.head()"
   ]
  },
  {
   "cell_type": "markdown",
   "metadata": {},
   "source": [
    "## Cleaning and Transforming the data "
   ]
  },
  {
   "cell_type": "markdown",
   "metadata": {},
   "source": [
    "### Housing data sets"
   ]
  },
  {
   "cell_type": "code",
   "execution_count": 213,
   "metadata": {
    "collapsed": true
   },
   "outputs": [],
   "source": [
    "#change the type of parameters\n",
    "for f in train.columns:\n",
    "    if train[f].dtype=='object':\n",
    "        lbl = preprocessing.LabelEncoder()\n",
    "        lbl.fit(list(train[f].values)) \n",
    "        train[f] = lbl.transform(list(train[f].values))\n",
    "        \n",
    "for f in test.columns:\n",
    "    if test[f].dtype=='object':\n",
    "        lbl = preprocessing.LabelEncoder()\n",
    "        lbl.fit(list(test[f].values)) \n",
    "        test[f] = lbl.transform(list(test[f].values))"
   ]
  },
  {
   "cell_type": "code",
   "execution_count": 214,
   "metadata": {
    "collapsed": false
   },
   "outputs": [
    {
     "data": {
      "text/plain": [
       "(array([  7.08500000e+03,   3.52000000e+02,   1.20000000e+02,\n",
       "          3.00000000e+00,   1.00000000e+00,   9.50000000e+01,\n",
       "          4.00000000e+00,   0.00000000e+00,   0.00000000e+00,\n",
       "          2.00000000e+00]),\n",
       " array([  0.20925786,   5.76857608,  11.3278943 ,  16.88721252,\n",
       "         22.44653074,  28.00584896,  33.56516718,  39.1244854 ,\n",
       "         44.68380362,  50.24312184,  55.80244006]),\n",
       " <a list of 10 Patch objects>)"
      ]
     },
     "execution_count": 214,
     "metadata": {},
     "output_type": "execute_result"
    },
    {
     "data": {
      "image/png": "[encoded data removed]",
      "text/plain": [
       "<matplotlib.figure.Figure at 0x1143e35d0>"
      ]
     },
     "metadata": {},
     "output_type": "display_data"
    }
   ],
   "source": [
    "# create a distance column - agg of all distance features\n",
    "train['dis']= (train['kindergarten_km'] + train['school_km'] + train['metro_km_avto'] + train['public_healthcare_km'])/4\n",
    "test['dis']= (test['kindergarten_km'] + test['school_km'] + test['metro_km_avto'] + test['public_healthcare_km'])/4\n",
    "plt.hist(train['dis'])\n",
    "plt.hist(test['dis'])"
   ]
  },
  {
   "cell_type": "code",
   "execution_count": 215,
   "metadata": {
    "collapsed": false
   },
   "outputs": [],
   "source": [
    "train.loc[train['build_year'] == 20052009, 'build_year'] = 2009\n",
    "train.loc[train['build_year'] == 4965, 'build_year'] = 1965\n",
    "train.loc[train['build_year'] == 71, 'build_year'] = 1971\n",
    "train.loc[train['build_year'] < 1800, 'build_year'] = np.nan"
   ]
  },
  {
   "cell_type": "markdown",
   "metadata": {},
   "source": [
    "# Add state feature to the model"
   ]
  },
  {
   "cell_type": "code",
   "execution_count": 216,
   "metadata": {
    "collapsed": false
   },
   "outputs": [
    {
     "name": "stdout",
     "output_type": "stream",
     "text": [
      "Index([u'id', u'month', u'year', u'sub_area', u'full_sq', u'build_year',\n",
      "       u'floor', u'max_floor', u'price_doc', u'product_type', u'dis'],\n",
      "      dtype='object')\n"
     ]
    },
    {
     "data": {
      "text/plain": [
       "Index([u'id', u'month', u'year', u'sub_area', u'full_sq', u'build_year',\n",
       "       u'floor', u'max_floor', u'product_type', u'dis'],\n",
       "      dtype='object')"
      ]
     },
     "execution_count": 216,
     "metadata": {},
     "output_type": "execute_result"
    }
   ],
   "source": [
    "#removing features to avoid overfitting\n",
    "del train['kindergarten_km']\n",
    "del train['school_km']\n",
    "del train['metro_km_avto']\n",
    "del train['public_healthcare_km']\n",
    "#del train['max_floor']\n",
    "\n",
    "\n",
    "del test['kindergarten_km']\n",
    "del test['school_km']\n",
    "del test['metro_km_avto']\n",
    "del test['public_healthcare_km']\n",
    "#del test['max_floor']\n",
    "\n",
    "print train.columns\n",
    "test.columns"
   ]
  },
  {
   "cell_type": "code",
   "execution_count": 217,
   "metadata": {
    "collapsed": true
   },
   "outputs": [],
   "source": [
    "# imputing year and month for full macro data frame\n",
    "macro_full['year'] = pd.DatetimeIndex(macro_full['timestamp']).year\n",
    "macro_full['month'] = pd.DatetimeIndex(macro_full['timestamp']).month"
   ]
  },
  {
   "cell_type": "code",
   "execution_count": 218,
   "metadata": {
    "collapsed": false
   },
   "outputs": [],
   "source": [
    "macro_full.to_csv(\"~/Desktop/macro_full.csv\", index = False)"
   ]
  },
  {
   "cell_type": "markdown",
   "metadata": {},
   "source": [
    "### Macro data sets"
   ]
  },
  {
   "cell_type": "code",
   "execution_count": 219,
   "metadata": {
    "collapsed": false
   },
   "outputs": [
    {
     "name": "stdout",
     "output_type": "stream",
     "text": [
      "(38133, 24)\n"
     ]
    },
    {
     "data": {
      "text/plain": [
       "Index([u'Unnamed: 0', u'balance_trade', u'brent', u'cpi', u'deposits_growth',\n",
       "       u'eurrub', u'gdp_quart', u'gdp_quart_growth', u'id', u'income_per_cap',\n",
       "       u'micex', u'micex_cbi_tr', u'micex_rgbi_tr', u'net_capital_export',\n",
       "       u'oil_urals', u'ppi', u'price_doc', u'rent_price_1room_bus',\n",
       "       u'rent_price_2room_bus', u'rent_price_3room_bus',\n",
       "       u'rent_price_4+room_bus', u'rts', u'timestamp', u'usdrub', u'year',\n",
       "       u'month', u'm_a_usd', u'cpi_m', u'oil_urals_m', u'income_per_cap_',\n",
       "       u'brent_'],\n",
       "      dtype='object')"
      ]
     },
     "execution_count": 219,
     "metadata": {},
     "output_type": "execute_result"
    }
   ],
   "source": [
    "# macro data cleaning\n",
    "print macro.shape\n",
    "#create month and year columns from the timestamp\n",
    "macro['year'] = pd.DatetimeIndex(macro['timestamp']).year\n",
    "macro['month'] = pd.DatetimeIndex(macro['timestamp']).month\n",
    "# in order to get a monthly trend in macroeconomics \n",
    "#creating monthly average usd value column for \n",
    "macro[\"m_a_usd\"] = np.nan\n",
    "macro[\"cpi_m\"] = np.nan\n",
    "macro['oil_urals_m'] = np.nan\n",
    "macro['income_per_cap_'] = np.nan\n",
    "macro['brent_'] = np.nan\n",
    "\n",
    "macro.columns"
   ]
  },
  {
   "cell_type": "code",
   "execution_count": 220,
   "metadata": {
    "collapsed": true
   },
   "outputs": [],
   "source": [
    "#code for the extra macro features\n",
    "\n",
    "# macro_full[\"mortgage_growth_\"] = np.nan\n",
    "# macro_full[\"pop_total_inc_\"] = np.nan\n",
    "\n",
    "#adding macro information\n",
    "# mortgage growth - percetage of total value\n",
    "#macro_full[\"mortgage_growth_\"].fillna(macro_full.groupby([\"year\",'month'])[\"mortgage_growth\"].transform(\"mean\"), inplace=True)\n",
    "# add population total increace column\n",
    "#macro_full[\"pop_total_inc_\"].fillna(macro_full.groupby([\"year\",'month'])[\"pop_total_inc\"].transform(\"mean\"), inplace=True)\n",
    "\n"
   ]
  },
  {
   "cell_type": "code",
   "execution_count": 221,
   "metadata": {
    "collapsed": true
   },
   "outputs": [],
   "source": [
    "#insert values to the new columns\n",
    "\n",
    "#create average values by month and year for the usdrub / cpi / oil_urals\n",
    "macro[\"m_a_usd\"].fillna(macro.groupby([\"year\",'month'])[\"usdrub\"].transform(\"mean\"), inplace=True)\n",
    "#monthly average of inplation\n",
    "macro[\"cpi_m\"].fillna(macro.groupby([\"year\",'month'])[\"cpi\"].transform(\"mean\"), inplace=True)\n",
    "# Crude Oil Urals ($/bbl\n",
    "macro[\"oil_urals_m\"].fillna(macro.groupby([\"year\",'month'])[\"oil_urals\"].transform(\"mean\"), inplace=True)\n",
    "#income per cap \n",
    "macro[\"income_per_cap_\"].fillna(macro.groupby([\"year\",'month'])[\"income_per_cap\"].transform(\"mean\"), inplace=True)"
   ]
  },
  {
   "cell_type": "markdown",
   "metadata": {},
   "source": [
    "### creating a new macro dataset for features that will be used for the prediction model"
   ]
  },
  {
   "cell_type": "code",
   "execution_count": 222,
   "metadata": {
    "collapsed": false
   },
   "outputs": [
    {
     "data": {
      "text/html": [
       "<div>\n",
       "<style>\n",
       "    .dataframe thead tr:only-child th {\n",
       "        text-align: right;\n",
       "    }\n",
       "\n",
       "    .dataframe thead th {\n",
       "        text-align: left;\n",
       "    }\n",
       "\n",
       "    .dataframe tbody tr th {\n",
       "        vertical-align: top;\n",
       "    }\n",
       "</style>\n",
       "<table border=\"1\" class=\"dataframe\">\n",
       "  <thead>\n",
       "    <tr style=\"text-align: right;\">\n",
       "      <th></th>\n",
       "      <th>year</th>\n",
       "      <th>month</th>\n",
       "      <th>cpi</th>\n",
       "      <th>usd</th>\n",
       "      <th>oil_urals</th>\n",
       "      <th>income_per_cap</th>\n",
       "    </tr>\n",
       "  </thead>\n",
       "  <tbody>\n",
       "    <tr>\n",
       "      <th>0</th>\n",
       "      <td>2011</td>\n",
       "      <td>8</td>\n",
       "      <td>354.0</td>\n",
       "      <td>28.921833</td>\n",
       "      <td>109.31</td>\n",
       "      <td>42688.6</td>\n",
       "    </tr>\n",
       "    <tr>\n",
       "      <th>3</th>\n",
       "      <td>2011</td>\n",
       "      <td>9</td>\n",
       "      <td>353.2</td>\n",
       "      <td>31.414226</td>\n",
       "      <td>111.29</td>\n",
       "      <td>40311.3</td>\n",
       "    </tr>\n",
       "    <tr>\n",
       "      <th>42</th>\n",
       "      <td>2011</td>\n",
       "      <td>10</td>\n",
       "      <td>353.0</td>\n",
       "      <td>31.137589</td>\n",
       "      <td>108.24</td>\n",
       "      <td>44388.0</td>\n",
       "    </tr>\n",
       "    <tr>\n",
       "      <th>255</th>\n",
       "      <td>2011</td>\n",
       "      <td>11</td>\n",
       "      <td>354.7</td>\n",
       "      <td>30.874150</td>\n",
       "      <td>110.43</td>\n",
       "      <td>46476.2</td>\n",
       "    </tr>\n",
       "    <tr>\n",
       "      <th>514</th>\n",
       "      <td>2011</td>\n",
       "      <td>12</td>\n",
       "      <td>356.2</td>\n",
       "      <td>31.582145</td>\n",
       "      <td>107.90</td>\n",
       "      <td>82685.3</td>\n",
       "    </tr>\n",
       "  </tbody>\n",
       "</table>\n",
       "</div>"
      ],
      "text/plain": [
       "     year  month    cpi        usd  oil_urals  income_per_cap\n",
       "0    2011      8  354.0  28.921833     109.31         42688.6\n",
       "3    2011      9  353.2  31.414226     111.29         40311.3\n",
       "42   2011     10  353.0  31.137589     108.24         44388.0\n",
       "255  2011     11  354.7  30.874150     110.43         46476.2\n",
       "514  2011     12  356.2  31.582145     107.90         82685.3"
      ]
     },
     "execution_count": 222,
     "metadata": {},
     "output_type": "execute_result"
    }
   ],
   "source": [
    "#create a data frame for the macro features generated from the macro data frame \n",
    "macro_test = pd.DataFrame()\n",
    "macro_test['year'] = macro[\"year\"]\n",
    "macro_test[\"month\"] = macro[\"month\"]\n",
    "macro_test[\"cpi\"] = macro[\"cpi_m\"]\n",
    "macro_test[\"usd\"] = macro[\"m_a_usd\"]\n",
    "macro_test[\"oil_urals\"] = macro[\"oil_urals_m\"]\n",
    "macro_test[\"income_per_cap\"] = macro[\"income_per_cap_\"]\n",
    "# macro_test[\"brent\"] = macro[\"brent_\"]\n",
    "# extracting only the unique values of\n",
    "macro_test = pd.DataFrame(macro_test.drop_duplicates())\n",
    "macro_test.head()"
   ]
  },
  {
   "cell_type": "code",
   "execution_count": 223,
   "metadata": {
    "collapsed": false
   },
   "outputs": [],
   "source": [
    "#merging the macro test & macro 3 (with mortgage growth info) to create a final macro dataset\n",
    "macro_final = pd.merge(macro3, macro_test,  how='left', left_on=['year','month'], right_on = ['year','month'])"
   ]
  },
  {
   "cell_type": "code",
   "execution_count": 224,
   "metadata": {
    "collapsed": false
   },
   "outputs": [
    {
     "data": {
      "text/html": [
       "<div>\n",
       "<style>\n",
       "    .dataframe thead tr:only-child th {\n",
       "        text-align: right;\n",
       "    }\n",
       "\n",
       "    .dataframe thead th {\n",
       "        text-align: left;\n",
       "    }\n",
       "\n",
       "    .dataframe tbody tr th {\n",
       "        vertical-align: top;\n",
       "    }\n",
       "</style>\n",
       "<table border=\"1\" class=\"dataframe\">\n",
       "  <thead>\n",
       "    <tr style=\"text-align: right;\">\n",
       "      <th></th>\n",
       "      <th>year</th>\n",
       "      <th>month</th>\n",
       "      <th>mortgage_growth</th>\n",
       "      <th>pop_total_inc</th>\n",
       "      <th>cpi</th>\n",
       "      <th>usd</th>\n",
       "      <th>oil_urals</th>\n",
       "      <th>income_per_cap</th>\n",
       "    </tr>\n",
       "  </thead>\n",
       "  <tbody>\n",
       "    <tr>\n",
       "      <th>0</th>\n",
       "      <td>2011</td>\n",
       "      <td>1</td>\n",
       "      <td>1.550459</td>\n",
       "      <td>6.2</td>\n",
       "      <td>NaN</td>\n",
       "      <td>NaN</td>\n",
       "      <td>NaN</td>\n",
       "      <td>NaN</td>\n",
       "    </tr>\n",
       "    <tr>\n",
       "      <th>1</th>\n",
       "      <td>2011</td>\n",
       "      <td>2</td>\n",
       "      <td>1.482660</td>\n",
       "      <td>6.2</td>\n",
       "      <td>NaN</td>\n",
       "      <td>NaN</td>\n",
       "      <td>NaN</td>\n",
       "      <td>NaN</td>\n",
       "    </tr>\n",
       "    <tr>\n",
       "      <th>2</th>\n",
       "      <td>2011</td>\n",
       "      <td>3</td>\n",
       "      <td>1.344303</td>\n",
       "      <td>6.2</td>\n",
       "      <td>NaN</td>\n",
       "      <td>NaN</td>\n",
       "      <td>NaN</td>\n",
       "      <td>NaN</td>\n",
       "    </tr>\n",
       "    <tr>\n",
       "      <th>3</th>\n",
       "      <td>2011</td>\n",
       "      <td>4</td>\n",
       "      <td>1.207677</td>\n",
       "      <td>6.2</td>\n",
       "      <td>NaN</td>\n",
       "      <td>NaN</td>\n",
       "      <td>NaN</td>\n",
       "      <td>NaN</td>\n",
       "    </tr>\n",
       "    <tr>\n",
       "      <th>4</th>\n",
       "      <td>2011</td>\n",
       "      <td>5</td>\n",
       "      <td>1.109417</td>\n",
       "      <td>6.2</td>\n",
       "      <td>NaN</td>\n",
       "      <td>NaN</td>\n",
       "      <td>NaN</td>\n",
       "      <td>NaN</td>\n",
       "    </tr>\n",
       "    <tr>\n",
       "      <th>5</th>\n",
       "      <td>2011</td>\n",
       "      <td>6</td>\n",
       "      <td>1.107151</td>\n",
       "      <td>6.2</td>\n",
       "      <td>NaN</td>\n",
       "      <td>NaN</td>\n",
       "      <td>NaN</td>\n",
       "      <td>NaN</td>\n",
       "    </tr>\n",
       "    <tr>\n",
       "      <th>6</th>\n",
       "      <td>2011</td>\n",
       "      <td>7</td>\n",
       "      <td>1.107260</td>\n",
       "      <td>6.2</td>\n",
       "      <td>NaN</td>\n",
       "      <td>NaN</td>\n",
       "      <td>NaN</td>\n",
       "      <td>NaN</td>\n",
       "    </tr>\n",
       "    <tr>\n",
       "      <th>7</th>\n",
       "      <td>2011</td>\n",
       "      <td>8</td>\n",
       "      <td>1.051914</td>\n",
       "      <td>6.2</td>\n",
       "      <td>354.0</td>\n",
       "      <td>28.921833</td>\n",
       "      <td>109.31</td>\n",
       "      <td>42688.6</td>\n",
       "    </tr>\n",
       "    <tr>\n",
       "      <th>8</th>\n",
       "      <td>2011</td>\n",
       "      <td>9</td>\n",
       "      <td>1.049543</td>\n",
       "      <td>6.2</td>\n",
       "      <td>353.2</td>\n",
       "      <td>31.414226</td>\n",
       "      <td>111.29</td>\n",
       "      <td>40311.3</td>\n",
       "    </tr>\n",
       "    <tr>\n",
       "      <th>9</th>\n",
       "      <td>2011</td>\n",
       "      <td>10</td>\n",
       "      <td>1.030292</td>\n",
       "      <td>6.2</td>\n",
       "      <td>353.0</td>\n",
       "      <td>31.137589</td>\n",
       "      <td>108.24</td>\n",
       "      <td>44388.0</td>\n",
       "    </tr>\n",
       "  </tbody>\n",
       "</table>\n",
       "</div>"
      ],
      "text/plain": [
       "   year  month  mortgage_growth  pop_total_inc    cpi        usd  oil_urals  \\\n",
       "0  2011      1         1.550459            6.2    NaN        NaN        NaN   \n",
       "1  2011      2         1.482660            6.2    NaN        NaN        NaN   \n",
       "2  2011      3         1.344303            6.2    NaN        NaN        NaN   \n",
       "3  2011      4         1.207677            6.2    NaN        NaN        NaN   \n",
       "4  2011      5         1.109417            6.2    NaN        NaN        NaN   \n",
       "5  2011      6         1.107151            6.2    NaN        NaN        NaN   \n",
       "6  2011      7         1.107260            6.2    NaN        NaN        NaN   \n",
       "7  2011      8         1.051914            6.2  354.0  28.921833     109.31   \n",
       "8  2011      9         1.049543            6.2  353.2  31.414226     111.29   \n",
       "9  2011     10         1.030292            6.2  353.0  31.137589     108.24   \n",
       "\n",
       "   income_per_cap  \n",
       "0             NaN  \n",
       "1             NaN  \n",
       "2             NaN  \n",
       "3             NaN  \n",
       "4             NaN  \n",
       "5             NaN  \n",
       "6             NaN  \n",
       "7         42688.6  \n",
       "8         40311.3  \n",
       "9         44388.0  "
      ]
     },
     "execution_count": 224,
     "metadata": {},
     "output_type": "execute_result"
    }
   ],
   "source": [
    "macro_final.head(10)"
   ]
  },
  {
   "cell_type": "code",
   "execution_count": 225,
   "metadata": {
    "collapsed": true
   },
   "outputs": [],
   "source": [
    "del macro_final['pop_total_inc']"
   ]
  },
  {
   "cell_type": "markdown",
   "metadata": {},
   "source": [
    "### Creating the train and test final data sets"
   ]
  },
  {
   "cell_type": "code",
   "execution_count": 226,
   "metadata": {
    "collapsed": true
   },
   "outputs": [],
   "source": [
    "#create train + macro data set\n",
    "#train_final = pd.merge(train, macro_test, how='left', on = ['year','month'])\n",
    "train_final = pd.merge(train, macro_final,  how='left', left_on=['year','month'], right_on = ['year','month'])\n",
    "#create test + macro data set\n",
    "test_final = pd.merge(test, macro_final, how='left', on = ['year','month'])"
   ]
  },
  {
   "cell_type": "code",
   "execution_count": 227,
   "metadata": {
    "collapsed": false
   },
   "outputs": [
    {
     "data": {
      "text/html": [
       "<div>\n",
       "<style>\n",
       "    .dataframe thead tr:only-child th {\n",
       "        text-align: right;\n",
       "    }\n",
       "\n",
       "    .dataframe thead th {\n",
       "        text-align: left;\n",
       "    }\n",
       "\n",
       "    .dataframe tbody tr th {\n",
       "        vertical-align: top;\n",
       "    }\n",
       "</style>\n",
       "<table border=\"1\" class=\"dataframe\">\n",
       "  <thead>\n",
       "    <tr style=\"text-align: right;\">\n",
       "      <th></th>\n",
       "      <th>id</th>\n",
       "      <th>month</th>\n",
       "      <th>year</th>\n",
       "      <th>sub_area</th>\n",
       "      <th>full_sq</th>\n",
       "      <th>build_year</th>\n",
       "      <th>floor</th>\n",
       "      <th>max_floor</th>\n",
       "      <th>price_doc</th>\n",
       "      <th>product_type</th>\n",
       "      <th>dis</th>\n",
       "      <th>mortgage_growth</th>\n",
       "      <th>cpi</th>\n",
       "      <th>usd</th>\n",
       "      <th>oil_urals</th>\n",
       "      <th>income_per_cap</th>\n",
       "    </tr>\n",
       "  </thead>\n",
       "  <tbody>\n",
       "    <tr>\n",
       "      <th>0</th>\n",
       "      <td>1</td>\n",
       "      <td>8</td>\n",
       "      <td>2011</td>\n",
       "      <td>1</td>\n",
       "      <td>43.0</td>\n",
       "      <td>1974.0</td>\n",
       "      <td>4.0</td>\n",
       "      <td>7.667123</td>\n",
       "      <td>5850000</td>\n",
       "      <td>0</td>\n",
       "      <td>0.607419</td>\n",
       "      <td>1.051914</td>\n",
       "      <td>354.0</td>\n",
       "      <td>28.921833</td>\n",
       "      <td>109.31</td>\n",
       "      <td>42688.6</td>\n",
       "    </tr>\n",
       "    <tr>\n",
       "      <th>1</th>\n",
       "      <td>2</td>\n",
       "      <td>8</td>\n",
       "      <td>2011</td>\n",
       "      <td>23</td>\n",
       "      <td>34.0</td>\n",
       "      <td>2017.0</td>\n",
       "      <td>3.0</td>\n",
       "      <td>7.667123</td>\n",
       "      <td>6000000</td>\n",
       "      <td>0</td>\n",
       "      <td>0.636540</td>\n",
       "      <td>1.051914</td>\n",
       "      <td>354.0</td>\n",
       "      <td>28.921833</td>\n",
       "      <td>109.31</td>\n",
       "      <td>42688.6</td>\n",
       "    </tr>\n",
       "    <tr>\n",
       "      <th>2</th>\n",
       "      <td>3</td>\n",
       "      <td>8</td>\n",
       "      <td>2011</td>\n",
       "      <td>43</td>\n",
       "      <td>43.0</td>\n",
       "      <td>1969.0</td>\n",
       "      <td>2.0</td>\n",
       "      <td>7.667123</td>\n",
       "      <td>5700000</td>\n",
       "      <td>0</td>\n",
       "      <td>0.485578</td>\n",
       "      <td>1.051914</td>\n",
       "      <td>354.0</td>\n",
       "      <td>28.921833</td>\n",
       "      <td>109.31</td>\n",
       "      <td>42688.6</td>\n",
       "    </tr>\n",
       "    <tr>\n",
       "      <th>3</th>\n",
       "      <td>4</td>\n",
       "      <td>9</td>\n",
       "      <td>2011</td>\n",
       "      <td>21</td>\n",
       "      <td>89.0</td>\n",
       "      <td>2015.0</td>\n",
       "      <td>9.0</td>\n",
       "      <td>9.000000</td>\n",
       "      <td>13100000</td>\n",
       "      <td>0</td>\n",
       "      <td>0.891042</td>\n",
       "      <td>1.049543</td>\n",
       "      <td>353.2</td>\n",
       "      <td>31.414226</td>\n",
       "      <td>111.29</td>\n",
       "      <td>40311.3</td>\n",
       "    </tr>\n",
       "    <tr>\n",
       "      <th>4</th>\n",
       "      <td>5</td>\n",
       "      <td>9</td>\n",
       "      <td>2011</td>\n",
       "      <td>49</td>\n",
       "      <td>77.0</td>\n",
       "      <td>2014.0</td>\n",
       "      <td>4.0</td>\n",
       "      <td>7.667123</td>\n",
       "      <td>16331452</td>\n",
       "      <td>0</td>\n",
       "      <td>0.655766</td>\n",
       "      <td>1.049543</td>\n",
       "      <td>353.2</td>\n",
       "      <td>31.414226</td>\n",
       "      <td>111.29</td>\n",
       "      <td>40311.3</td>\n",
       "    </tr>\n",
       "  </tbody>\n",
       "</table>\n",
       "</div>"
      ],
      "text/plain": [
       "   id  month  year  sub_area  full_sq  build_year  floor  max_floor  \\\n",
       "0   1      8  2011         1     43.0      1974.0    4.0   7.667123   \n",
       "1   2      8  2011        23     34.0      2017.0    3.0   7.667123   \n",
       "2   3      8  2011        43     43.0      1969.0    2.0   7.667123   \n",
       "3   4      9  2011        21     89.0      2015.0    9.0   9.000000   \n",
       "4   5      9  2011        49     77.0      2014.0    4.0   7.667123   \n",
       "\n",
       "   price_doc  product_type       dis  mortgage_growth    cpi        usd  \\\n",
       "0    5850000             0  0.607419         1.051914  354.0  28.921833   \n",
       "1    6000000             0  0.636540         1.051914  354.0  28.921833   \n",
       "2    5700000             0  0.485578         1.051914  354.0  28.921833   \n",
       "3   13100000             0  0.891042         1.049543  353.2  31.414226   \n",
       "4   16331452             0  0.655766         1.049543  353.2  31.414226   \n",
       "\n",
       "   oil_urals  income_per_cap  \n",
       "0     109.31         42688.6  \n",
       "1     109.31         42688.6  \n",
       "2     109.31         42688.6  \n",
       "3     111.29         40311.3  \n",
       "4     111.29         40311.3  "
      ]
     },
     "execution_count": 227,
     "metadata": {},
     "output_type": "execute_result"
    }
   ],
   "source": [
    "train_final.head()"
   ]
  },
  {
   "cell_type": "code",
   "execution_count": 228,
   "metadata": {
    "collapsed": false
   },
   "outputs": [],
   "source": [
    "#adding state and population to the final datasets\n",
    "train_final = pd.merge(train_final, extra_features , on='id')"
   ]
  },
  {
   "cell_type": "code",
   "execution_count": 229,
   "metadata": {
    "collapsed": true
   },
   "outputs": [],
   "source": [
    "#adding state and population to the final datasets\n",
    "test_final = pd.merge(test_final, extra_features , on='id')"
   ]
  },
  {
   "cell_type": "code",
   "execution_count": 230,
   "metadata": {
    "collapsed": true
   },
   "outputs": [],
   "source": [
    "#create data sets without id for the actull model\n",
    "train_no_id= train_final\n",
    "test_no_id= test_final\n",
    "del train_no_id['id']\n",
    "del test_no_id['id']"
   ]
  },
  {
   "cell_type": "markdown",
   "metadata": {},
   "source": [
    "### Preparing the data for submission to Kaggle"
   ]
  },
  {
   "cell_type": "code",
   "execution_count": 231,
   "metadata": {
    "collapsed": true
   },
   "outputs": [],
   "source": [
    "#testing the new data frames - agg distance & new features from macro data set\n",
    "X_train = train_no_id.drop('price_doc',axis=1)\n",
    "Y_train = train_no_id['price_doc']\n",
    "#using the log of the price_doc for the training\n",
    "log_Y = np.log(Y_train + 1)\n",
    "T_train_xgb = xgb.DMatrix(X_train, log_Y)"
   ]
  },
  {
   "cell_type": "markdown",
   "metadata": {},
   "source": [
    "### Cross Validation for XGBOOST parameters "
   ]
  },
  {
   "cell_type": "code",
   "execution_count": null,
   "metadata": {
    "collapsed": false
   },
   "outputs": [],
   "source": [
    "xgb_model = xgb.XGBRegressor()\n",
    "clf = GridSearchCV(xgb_model,\n",
    "                   {'learning_rate': [0.01],\n",
    "                    'max_depth': [9],\n",
    "                    'n_estimators': [1800], 'colsample_bytree':[0.4]}, verbose=1)\n",
    "clf.fit(X_train, Y_train)"
   ]
  },
  {
   "cell_type": "code",
   "execution_count": 250,
   "metadata": {
    "collapsed": true
   },
   "outputs": [],
   "source": [
    "params = {\"booster\":\"gbtree\",\n",
    "          \"eta\": 0.01,\n",
    "          \"n_estimators\": 1800,\n",
    "          \"max_depth\": 9,\n",
    "          \"subsample\": 1,\n",
    "          \"colsample_bytree\": 0.4,\n",
    "          \"objective\": 'reg:linear',\n",
    "          \"eval_metric\": 'rmse',\n",
    "          \"silent\": 0}"
   ]
  },
  {
   "cell_type": "code",
   "execution_count": 251,
   "metadata": {
    "collapsed": false
   },
   "outputs": [
    {
     "name": "stdout",
     "output_type": "stream",
     "text": [
      "[0]\ttrain-rmse:14.9706+0.00203352\ttest-rmse:14.9706+0.00413391\n",
      "[50]\ttrain-rmse:9.06878+0.000907557\ttest-rmse:9.069+0.00410798\n",
      "[100]\ttrain-rmse:5.50378+0.000254444\ttest-rmse:5.50406+0.00383502\n",
      "[150]\ttrain-rmse:3.35571+0.00078267\ttest-rmse:3.3562+0.00328059\n",
      "[200]\ttrain-rmse:2.06902+0.00109101\ttest-rmse:2.07023+0.00254506\n",
      "[250]\ttrain-rmse:1.30866+0.00169062\ttest-rmse:1.31274+0.00224592\n",
      "[300]\ttrain-rmse:0.870853+0.00249563\ttest-rmse:0.882621+0.00299946\n",
      "[350]\ttrain-rmse:0.631475+0.00293619\ttest-rmse:0.654954+0.00491193\n",
      "[400]\ttrain-rmse:0.508682+0.00305048\ttest-rmse:0.545602+0.00673395\n",
      "[450]\ttrain-rmse:0.448057+0.003241\ttest-rmse:0.497666+0.00791682\n",
      "[500]\ttrain-rmse:0.41713+0.00264107\ttest-rmse:0.477771+0.00865735\n",
      "[550]\ttrain-rmse:0.39849+0.0028585\ttest-rmse:0.469402+0.00901862\n",
      "[600]\ttrain-rmse:0.38658+0.00216847\ttest-rmse:0.465865+0.00911534\n",
      "[650]\ttrain-rmse:0.376974+0.00156096\ttest-rmse:0.464304+0.00918495\n",
      "[700]\ttrain-rmse:0.369528+0.00127289\ttest-rmse:0.46358+0.00913406\n",
      "[750]\ttrain-rmse:0.362855+0.00141502\ttest-rmse:0.463189+0.00910426\n",
      "[800]\ttrain-rmse:0.356699+0.00114315\ttest-rmse:0.46301+0.00908453\n",
      "[850]\ttrain-rmse:0.351107+0.000967077\ttest-rmse:0.462952+0.00899943\n",
      "[900]\ttrain-rmse:0.346376+0.00133758\ttest-rmse:0.462924+0.00896995\n"
     ]
    }
   ],
   "source": [
    "grid_search = xgb.cv(params, T_train_xgb, num_boost_round=5000, nfold=3,\n",
    "        verbose_eval=50, early_stopping_rounds = 50)"
   ]
  },
  {
   "cell_type": "code",
   "execution_count": 249,
   "metadata": {
    "collapsed": false
   },
   "outputs": [
    {
     "name": "stdout",
     "output_type": "stream",
     "text": [
      "{'n_estimators': 1800, 'learning_rate': 0.01, 'colsample_bytree': 0.4, 'max_depth': 9}\n",
      "0.600070858328\n"
     ]
    }
   ],
   "source": [
    "# testing the result of the CV\n",
    "print clf.best_params_\n",
    "print clf.best_score_"
   ]
  },
  {
   "cell_type": "markdown",
   "metadata": {},
   "source": [
    "### Training the XGBOOST using the parameters from the CV "
   ]
  },
  {
   "cell_type": "code",
   "execution_count": 252,
   "metadata": {
    "collapsed": true
   },
   "outputs": [],
   "source": [
    "params = {\"booster\":\"gbtree\",\n",
    "          \"eta\": 0.01,\n",
    "          \"n_estimators\": 1800,\n",
    "          \"max_depth\": 9,\n",
    "          \"subsample\": 1,\n",
    "          \"colsample_bytree\": 0.4,\n",
    "          \"objective\": 'reg:linear',\n",
    "          \"eval_metric\": 'rmse',\n",
    "          \"silent\": 0}\n",
    "\n",
    "gbm = xgb.train(dtrain = T_train_xgb, params = params, num_boost_round=850)"
   ]
  },
  {
   "cell_type": "code",
   "execution_count": 253,
   "metadata": {
    "collapsed": false
   },
   "outputs": [
    {
     "data": {
      "text/plain": [
       "{'build_year': 17418,\n",
       " 'cpi': 7214,\n",
       " 'dis': 19604,\n",
       " 'floor': 9929,\n",
       " 'full_sq': 18228,\n",
       " 'income_per_cap': 6933,\n",
       " 'max_floor': 10163,\n",
       " 'month': 8316,\n",
       " 'mortgage_growth': 10059,\n",
       " 'oil_urals': 7151,\n",
       " 'product_type': 2123,\n",
       " 'ration_popul': 15370,\n",
       " 'state': 3616,\n",
       " 'sub_area': 12169,\n",
       " 'usd': 7820,\n",
       " 'year': 3923}"
      ]
     },
     "execution_count": 253,
     "metadata": {},
     "output_type": "execute_result"
    }
   ],
   "source": [
    "# checking the importance of each of the features\n",
    "gbm.get_score()"
   ]
  },
  {
   "cell_type": "code",
   "execution_count": 254,
   "metadata": {
    "collapsed": true
   },
   "outputs": [],
   "source": [
    "#predict the price for the test data set using the train model\n",
    "Y_pred = gbm.predict(xgb.DMatrix(test_no_id))"
   ]
  },
  {
   "cell_type": "code",
   "execution_count": 255,
   "metadata": {
    "collapsed": true
   },
   "outputs": [],
   "source": [
    "# convert the log of the predicted price\n",
    "Y_pred = np.expm1(Y_pred)"
   ]
  },
  {
   "cell_type": "markdown",
   "metadata": {},
   "source": [
    "### Preparing the predicted price for submission "
   ]
  },
  {
   "cell_type": "code",
   "execution_count": 256,
   "metadata": {
    "collapsed": false
   },
   "outputs": [
    {
     "data": {
      "text/html": [
       "<div>\n",
       "<style>\n",
       "    .dataframe thead tr:only-child th {\n",
       "        text-align: right;\n",
       "    }\n",
       "\n",
       "    .dataframe thead th {\n",
       "        text-align: left;\n",
       "    }\n",
       "\n",
       "    .dataframe tbody tr th {\n",
       "        vertical-align: top;\n",
       "    }\n",
       "</style>\n",
       "<table border=\"1\" class=\"dataframe\">\n",
       "  <thead>\n",
       "    <tr style=\"text-align: right;\">\n",
       "      <th></th>\n",
       "      <th>id</th>\n",
       "      <th>price_doc</th>\n",
       "    </tr>\n",
       "  </thead>\n",
       "  <tbody>\n",
       "  </tbody>\n",
       "</table>\n",
       "</div>"
      ],
      "text/plain": [
       "Empty DataFrame\n",
       "Columns: [id, price_doc]\n",
       "Index: []"
      ]
     },
     "execution_count": 256,
     "metadata": {},
     "output_type": "execute_result"
    }
   ],
   "source": [
    "submission = pd.DataFrame()\n",
    "submission['id'] = test[\"id\"]\n",
    "submission[\"price_doc\"] = Y_pred\n",
    "submission.head(10)\n",
    "\n",
    "# making sure all the predicted values are positive\n",
    "submission.loc[submission.price_doc < 0, ] "
   ]
  },
  {
   "cell_type": "code",
   "execution_count": null,
   "metadata": {
    "collapsed": true
   },
   "outputs": [],
   "source": [
    "#changing the negative values to positive\n",
    "submission.loc[submission.price_doc < 0, \"price_doc\"] *= -1"
   ]
  },
  {
   "cell_type": "code",
   "execution_count": 257,
   "metadata": {
    "collapsed": true
   },
   "outputs": [],
   "source": [
    "# creating a csv file for submission\n",
    "submission.to_csv(\"~/Desktop/24Submission.csv\", index = False)"
   ]
  },
  {
   "cell_type": "markdown",
   "metadata": {},
   "source": [
    "# Macro Data Visualization  "
   ]
  },
  {
   "cell_type": "code",
   "execution_count": 19,
   "metadata": {
    "collapsed": false
   },
   "outputs": [
    {
     "data": {
      "text/plain": [
       "[<matplotlib.lines.Line2D at 0x11978f210>]"
      ]
     },
     "execution_count": 19,
     "metadata": {},
     "output_type": "execute_result"
    },
    {
     "data": {
      "image/png": "[encoded data removed]",
      "text/plain": [
       "<matplotlib.figure.Figure at 0x1134d7d10>"
      ]
     },
     "metadata": {},
     "output_type": "display_data"
    }
   ],
   "source": [
    "#CPI over time\n",
    "plt.plot(macro_final['year'],macro_final['usd'])"
   ]
  },
  {
   "cell_type": "code",
   "execution_count": 1,
   "metadata": {
    "collapsed": false
   },
   "outputs": [
    {
     "ename": "NameError",
     "evalue": "name 'scatter_matrix' is not defined",
     "output_type": "error",
     "traceback": [
      "\u001b[0;31m---------------------------------------------------------------------------\u001b[0m",
      "\u001b[0;31mNameError\u001b[0m                                 Traceback (most recent call last)",
      "\u001b[0;32m<ipython-input-1-debdea3ac312>\u001b[0m in \u001b[0;36m<module>\u001b[0;34m()\u001b[0m\n\u001b[0;32m----> 1\u001b[0;31m \u001b[0mscatter_matrix\u001b[0m\u001b[0;34m(\u001b[0m\u001b[0mmacro_final\u001b[0m\u001b[0;34m)\u001b[0m\u001b[0;34m\u001b[0m\u001b[0m\n\u001b[0m",
      "\u001b[0;31mNameError\u001b[0m: name 'scatter_matrix' is not defined"
     ]
    }
   ],
   "source": [
    "scatter_matrix(macro_final)"
   ]
  },
  {
   "cell_type": "code",
   "execution_count": 23,
   "metadata": {
    "collapsed": true
   },
   "outputs": [],
   "source": [
    "def timeseries_plot(data, val, timestamp='timestamp', by='day'):\n",
    "    by = by.strip().lower()\n",
    "    if by == 'day':\n",
    "        data.loc[:, [timestamp, val]].groupby(timestamp).agg('mean').plot()\n",
    "        return\n",
    "    elif by == 'weekday':\n",
    "        by = '%w'\n",
    "    elif by == 'month':\n",
    "        by = '%m'\n",
    "    elif by == 'year-month':\n",
    "        by = '%Y-%m'\n",
    "    elif by == 'year':\n",
    "        by = '%Y'\n",
    "    by_what = data[timestamp].apply(lambda x: x.strftime(by))\n",
    "    data.loc[:, [timestamp, val]].groupby(by_what).agg('mean').plot()"
   ]
  },
  {
   "cell_type": "code",
   "execution_count": 24,
   "metadata": {
    "collapsed": false
   },
   "outputs": [
    {
     "ename": "AttributeError",
     "evalue": "'str' object has no attribute 'strftime'",
     "output_type": "error",
     "traceback": [
      "\u001b[0;31m---------------------------------------------------------------------------\u001b[0m",
      "\u001b[0;31mAttributeError\u001b[0m                            Traceback (most recent call last)",
      "\u001b[0;32m<ipython-input-24-d0e3c8c8fbdd>\u001b[0m in \u001b[0;36m<module>\u001b[0;34m()\u001b[0m\n\u001b[1;32m      1\u001b[0m \u001b[0mtimeseries_plot\u001b[0m\u001b[0;34m(\u001b[0m\u001b[0mmacro\u001b[0m\u001b[0;34m,\u001b[0m \u001b[0mval\u001b[0m\u001b[0;34m=\u001b[0m\u001b[0;34m'usd'\u001b[0m\u001b[0;34m,\u001b[0m \u001b[0mby\u001b[0m\u001b[0;34m=\u001b[0m\u001b[0;34m'day'\u001b[0m\u001b[0;34m)\u001b[0m\u001b[0;34m\u001b[0m\u001b[0m\n\u001b[0;32m----> 2\u001b[0;31m \u001b[0mtimeseries_plot\u001b[0m\u001b[0;34m(\u001b[0m\u001b[0mmacro\u001b[0m\u001b[0;34m,\u001b[0m \u001b[0mval\u001b[0m\u001b[0;34m=\u001b[0m\u001b[0;34m'usd'\u001b[0m\u001b[0;34m,\u001b[0m \u001b[0mby\u001b[0m\u001b[0;34m=\u001b[0m\u001b[0;34m'weekday'\u001b[0m\u001b[0;34m)\u001b[0m\u001b[0;34m\u001b[0m\u001b[0m\n\u001b[0m\u001b[1;32m      3\u001b[0m \u001b[0mtimeseries_plot\u001b[0m\u001b[0;34m(\u001b[0m\u001b[0mmacro\u001b[0m\u001b[0;34m,\u001b[0m \u001b[0mval\u001b[0m\u001b[0;34m=\u001b[0m\u001b[0;34m'usd'\u001b[0m\u001b[0;34m,\u001b[0m \u001b[0mby\u001b[0m\u001b[0;34m=\u001b[0m\u001b[0;34m'month'\u001b[0m\u001b[0;34m)\u001b[0m\u001b[0;34m\u001b[0m\u001b[0m\n\u001b[1;32m      4\u001b[0m \u001b[0mtimeseries_plot\u001b[0m\u001b[0;34m(\u001b[0m\u001b[0mmacro\u001b[0m\u001b[0;34m,\u001b[0m \u001b[0mval\u001b[0m\u001b[0;34m=\u001b[0m\u001b[0;34m'usd'\u001b[0m\u001b[0;34m,\u001b[0m \u001b[0mby\u001b[0m\u001b[0;34m=\u001b[0m\u001b[0;34m'year'\u001b[0m\u001b[0;34m)\u001b[0m\u001b[0;34m\u001b[0m\u001b[0m\n\u001b[1;32m      5\u001b[0m \u001b[0mtimeseries_plot\u001b[0m\u001b[0;34m(\u001b[0m\u001b[0mmacro\u001b[0m\u001b[0;34m,\u001b[0m \u001b[0mval\u001b[0m\u001b[0;34m=\u001b[0m\u001b[0;34m'usd'\u001b[0m\u001b[0;34m,\u001b[0m \u001b[0mby\u001b[0m\u001b[0;34m=\u001b[0m\u001b[0;34m'%Y-%m'\u001b[0m\u001b[0;34m)\u001b[0m\u001b[0;34m\u001b[0m\u001b[0m\n",
      "\u001b[0;32m<ipython-input-23-7693982a815f>\u001b[0m in \u001b[0;36mtimeseries_plot\u001b[0;34m(data, val, timestamp, by)\u001b[0m\n\u001b[1;32m     12\u001b[0m     \u001b[0;32melif\u001b[0m \u001b[0mby\u001b[0m \u001b[0;34m==\u001b[0m \u001b[0;34m'year'\u001b[0m\u001b[0;34m:\u001b[0m\u001b[0;34m\u001b[0m\u001b[0m\n\u001b[1;32m     13\u001b[0m         \u001b[0mby\u001b[0m \u001b[0;34m=\u001b[0m \u001b[0;34m'%Y'\u001b[0m\u001b[0;34m\u001b[0m\u001b[0m\n\u001b[0;32m---> 14\u001b[0;31m     \u001b[0mby_what\u001b[0m \u001b[0;34m=\u001b[0m \u001b[0mdata\u001b[0m\u001b[0;34m[\u001b[0m\u001b[0mtimestamp\u001b[0m\u001b[0;34m]\u001b[0m\u001b[0;34m.\u001b[0m\u001b[0mapply\u001b[0m\u001b[0;34m(\u001b[0m\u001b[0;32mlambda\u001b[0m \u001b[0mx\u001b[0m\u001b[0;34m:\u001b[0m \u001b[0mx\u001b[0m\u001b[0;34m.\u001b[0m\u001b[0mstrftime\u001b[0m\u001b[0;34m(\u001b[0m\u001b[0mby\u001b[0m\u001b[0;34m)\u001b[0m\u001b[0;34m)\u001b[0m\u001b[0;34m\u001b[0m\u001b[0m\n\u001b[0m\u001b[1;32m     15\u001b[0m     \u001b[0mdata\u001b[0m\u001b[0;34m.\u001b[0m\u001b[0mloc\u001b[0m\u001b[0;34m[\u001b[0m\u001b[0;34m:\u001b[0m\u001b[0;34m,\u001b[0m \u001b[0;34m[\u001b[0m\u001b[0mtimestamp\u001b[0m\u001b[0;34m,\u001b[0m \u001b[0mval\u001b[0m\u001b[0;34m]\u001b[0m\u001b[0;34m]\u001b[0m\u001b[0;34m.\u001b[0m\u001b[0mgroupby\u001b[0m\u001b[0;34m(\u001b[0m\u001b[0mby_what\u001b[0m\u001b[0;34m)\u001b[0m\u001b[0;34m.\u001b[0m\u001b[0magg\u001b[0m\u001b[0;34m(\u001b[0m\u001b[0;34m'mean'\u001b[0m\u001b[0;34m)\u001b[0m\u001b[0;34m.\u001b[0m\u001b[0mplot\u001b[0m\u001b[0;34m(\u001b[0m\u001b[0;34m)\u001b[0m\u001b[0;34m\u001b[0m\u001b[0m\n",
      "\u001b[0;32m/Users/chentrilnik/anaconda/lib/python2.7/site-packages/pandas/core/series.pyc\u001b[0m in \u001b[0;36mapply\u001b[0;34m(self, func, convert_dtype, args, **kwds)\u001b[0m\n\u001b[1;32m   2353\u001b[0m             \u001b[0;32melse\u001b[0m\u001b[0;34m:\u001b[0m\u001b[0;34m\u001b[0m\u001b[0m\n\u001b[1;32m   2354\u001b[0m                 \u001b[0mvalues\u001b[0m \u001b[0;34m=\u001b[0m \u001b[0mself\u001b[0m\u001b[0;34m.\u001b[0m\u001b[0masobject\u001b[0m\u001b[0;34m\u001b[0m\u001b[0m\n\u001b[0;32m-> 2355\u001b[0;31m                 \u001b[0mmapped\u001b[0m \u001b[0;34m=\u001b[0m \u001b[0mlib\u001b[0m\u001b[0;34m.\u001b[0m\u001b[0mmap_infer\u001b[0m\u001b[0;34m(\u001b[0m\u001b[0mvalues\u001b[0m\u001b[0;34m,\u001b[0m \u001b[0mf\u001b[0m\u001b[0;34m,\u001b[0m \u001b[0mconvert\u001b[0m\u001b[0;34m=\u001b[0m\u001b[0mconvert_dtype\u001b[0m\u001b[0;34m)\u001b[0m\u001b[0;34m\u001b[0m\u001b[0m\n\u001b[0m\u001b[1;32m   2356\u001b[0m \u001b[0;34m\u001b[0m\u001b[0m\n\u001b[1;32m   2357\u001b[0m         \u001b[0;32mif\u001b[0m \u001b[0mlen\u001b[0m\u001b[0;34m(\u001b[0m\u001b[0mmapped\u001b[0m\u001b[0;34m)\u001b[0m \u001b[0;32mand\u001b[0m \u001b[0misinstance\u001b[0m\u001b[0;34m(\u001b[0m\u001b[0mmapped\u001b[0m\u001b[0;34m[\u001b[0m\u001b[0;36m0\u001b[0m\u001b[0;34m]\u001b[0m\u001b[0;34m,\u001b[0m \u001b[0mSeries\u001b[0m\u001b[0;34m)\u001b[0m\u001b[0;34m:\u001b[0m\u001b[0;34m\u001b[0m\u001b[0m\n",
      "\u001b[0;32mpandas/_libs/src/inference.pyx\u001b[0m in \u001b[0;36mpandas._libs.lib.map_infer (pandas/_libs/lib.c:66440)\u001b[0;34m()\u001b[0m\n",
      "\u001b[0;32m<ipython-input-23-7693982a815f>\u001b[0m in \u001b[0;36m<lambda>\u001b[0;34m(x)\u001b[0m\n\u001b[1;32m     12\u001b[0m     \u001b[0;32melif\u001b[0m \u001b[0mby\u001b[0m \u001b[0;34m==\u001b[0m \u001b[0;34m'year'\u001b[0m\u001b[0;34m:\u001b[0m\u001b[0;34m\u001b[0m\u001b[0m\n\u001b[1;32m     13\u001b[0m         \u001b[0mby\u001b[0m \u001b[0;34m=\u001b[0m \u001b[0;34m'%Y'\u001b[0m\u001b[0;34m\u001b[0m\u001b[0m\n\u001b[0;32m---> 14\u001b[0;31m     \u001b[0mby_what\u001b[0m \u001b[0;34m=\u001b[0m \u001b[0mdata\u001b[0m\u001b[0;34m[\u001b[0m\u001b[0mtimestamp\u001b[0m\u001b[0;34m]\u001b[0m\u001b[0;34m.\u001b[0m\u001b[0mapply\u001b[0m\u001b[0;34m(\u001b[0m\u001b[0;32mlambda\u001b[0m \u001b[0mx\u001b[0m\u001b[0;34m:\u001b[0m \u001b[0mx\u001b[0m\u001b[0;34m.\u001b[0m\u001b[0mstrftime\u001b[0m\u001b[0;34m(\u001b[0m\u001b[0mby\u001b[0m\u001b[0;34m)\u001b[0m\u001b[0;34m)\u001b[0m\u001b[0;34m\u001b[0m\u001b[0m\n\u001b[0m\u001b[1;32m     15\u001b[0m     \u001b[0mdata\u001b[0m\u001b[0;34m.\u001b[0m\u001b[0mloc\u001b[0m\u001b[0;34m[\u001b[0m\u001b[0;34m:\u001b[0m\u001b[0;34m,\u001b[0m \u001b[0;34m[\u001b[0m\u001b[0mtimestamp\u001b[0m\u001b[0;34m,\u001b[0m \u001b[0mval\u001b[0m\u001b[0;34m]\u001b[0m\u001b[0;34m]\u001b[0m\u001b[0;34m.\u001b[0m\u001b[0mgroupby\u001b[0m\u001b[0;34m(\u001b[0m\u001b[0mby_what\u001b[0m\u001b[0;34m)\u001b[0m\u001b[0;34m.\u001b[0m\u001b[0magg\u001b[0m\u001b[0;34m(\u001b[0m\u001b[0;34m'mean'\u001b[0m\u001b[0;34m)\u001b[0m\u001b[0;34m.\u001b[0m\u001b[0mplot\u001b[0m\u001b[0;34m(\u001b[0m\u001b[0;34m)\u001b[0m\u001b[0;34m\u001b[0m\u001b[0m\n",
      "\u001b[0;31mAttributeError\u001b[0m: 'str' object has no attribute 'strftime'"
     ]
    },
    {
     "data": {
      "image/png": "[encoded data removed]",
      "text/plain": [
       "<matplotlib.figure.Figure at 0x110ae3110>"
      ]
     },
     "metadata": {},
     "output_type": "display_data"
    }
   ],
   "source": [
    "timeseries_plot(macro, val='usd', by='day')    \n",
    "timeseries_plot(macro, val='usd', by='weekday')    \n",
    "timeseries_plot(macro, val='usd', by='month')    \n",
    "timeseries_plot(macro, val='usd', by='year')\n",
    "timeseries_plot(macro, val='usd', by='%Y-%m')"
   ]
  },
  {
   "cell_type": "code",
   "execution_count": 25,
   "metadata": {
    "collapsed": true
   },
   "outputs": [],
   "source": [
    "def corr_plot(data):\n",
    "    corrmtx = data.corr()\n",
    "    sns.clustermap(corrmtx, annot=True, linewidths=.5)"
   ]
  },
  {
   "cell_type": "code",
   "execution_count": null,
   "metadata": {
    "collapsed": false
   },
   "outputs": [
    {
     "name": "stderr",
     "output_type": "stream",
     "text": [
      "/Users/chentrilnik/anaconda/lib/python2.7/site-packages/matplotlib/cbook.py:136: MatplotlibDeprecationWarning: The axisbg attribute was deprecated in version 2.0. Use facecolor instead.\n",
      "  warnings.warn(message, mplDeprecation, stacklevel=1)\n",
      "/Users/chentrilnik/anaconda/lib/python2.7/site-packages/seaborn/matrix.py:143: DeprecationWarning: elementwise == comparison failed; this will raise an error in the future.\n",
      "  if xticklabels == []:\n",
      "/Users/chentrilnik/anaconda/lib/python2.7/site-packages/seaborn/matrix.py:151: DeprecationWarning: elementwise == comparison failed; this will raise an error in the future.\n",
      "  if yticklabels == []:\n"
     ]
    }
   ],
   "source": [
    "corr_plot(train_no_id)\n",
    "corr_plot(test_no_id)"
   ]
  },
  {
   "cell_type": "code",
   "execution_count": null,
   "metadata": {
    "collapsed": true
   },
   "outputs": [],
   "source": []
  }
 ],
 "metadata": {
  "kernelspec": {
   "display_name": "Python 2",
   "language": "python",
   "name": "python2"
  },
  "language_info": {
   "codemirror_mode": {
    "name": "ipython",
    "version": 2
   },
   "file_extension": ".py",
   "mimetype": "text/x-python",
   "name": "python",
   "nbconvert_exporter": "python",
   "pygments_lexer": "ipython2",
   "version": "2.7.13"
  }
 },
 "nbformat": 4,
 "nbformat_minor": 2
}
