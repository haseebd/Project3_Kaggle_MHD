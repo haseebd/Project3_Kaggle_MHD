{
 "cells": [
  {
   "cell_type": "code",
   "execution_count": 72,
   "metadata": {
    "collapsed": true
   },
   "outputs": [],
   "source": [
    "import numpy as np # linear algebra\n",
    "import pandas as pd # data processing, CSV file I/O (e.g. pd.read_csv)\n",
    "import matplotlib.pyplot as plt\n",
    "import seaborn as sns\n",
    "from sklearn import model_selection, preprocessing\n",
    "import xgboost as xgb\n",
    "color = sns.color_palette()\n",
    "\n",
    "%matplotlib inline\n",
    "\n",
    "pd.options.mode.chained_assignment = None  # default='warn'\n",
    "pd.set_option('display.max_columns', 500)"
   ]
  },
  {
   "cell_type": "code",
   "execution_count": 73,
   "metadata": {
    "collapsed": false
   },
   "outputs": [
    {
     "data": {
      "text/plain": [
       "(7662, 47)"
      ]
     },
     "execution_count": 73,
     "metadata": {},
     "output_type": "execute_result"
    }
   ],
   "source": [
    "test = pd.read_csv(\"./github/test_df3.csv\")\n",
    "test.shape"
   ]
  },
  {
   "cell_type": "code",
   "execution_count": 74,
   "metadata": {
    "collapsed": false
   },
   "outputs": [
    {
     "data": {
      "text/plain": [
       "(30471, 48)"
      ]
     },
     "execution_count": 74,
     "metadata": {},
     "output_type": "execute_result"
    }
   ],
   "source": [
    "train = pd.read_csv(\"./github/train_df3.csv\")\n",
    "train.shape"
   ]
  },
  {
   "cell_type": "code",
   "execution_count": 75,
   "metadata": {
    "collapsed": false
   },
   "outputs": [],
   "source": [
    "for f in train.columns:\n",
    "    if train[f].dtype=='object':\n",
    "        lbl = preprocessing.LabelEncoder()\n",
    "        lbl.fit(list(train[f].values)) \n",
    "        train[f] = lbl.transform(list(train[f].values))\n",
    "        \n",
    "for f in test.columns:\n",
    "    if test[f].dtype=='object':\n",
    "        lbl = preprocessing.LabelEncoder()\n",
    "        lbl.fit(list(test[f].values)) \n",
    "        test[f] = lbl.transform(list(test[f].values))"
   ]
  },
  {
   "cell_type": "code",
   "execution_count": 48,
   "metadata": {
    "collapsed": false
   },
   "outputs": [
    {
     "data": {
      "text/html": [
       "<div>\n",
       "<style>\n",
       "    .dataframe thead tr:only-child th {\n",
       "        text-align: right;\n",
       "    }\n",
       "\n",
       "    .dataframe thead th {\n",
       "        text-align: left;\n",
       "    }\n",
       "\n",
       "    .dataframe tbody tr th {\n",
       "        vertical-align: top;\n",
       "    }\n",
       "</style>\n",
       "<table border=\"1\" class=\"dataframe\">\n",
       "  <thead>\n",
       "    <tr style=\"text-align: right;\">\n",
       "      <th></th>\n",
       "      <th>kindergarten_km</th>\n",
       "      <th>school_km</th>\n",
       "      <th>metro_km_avto</th>\n",
       "      <th>public_healthcare_km</th>\n",
       "      <th>month</th>\n",
       "      <th>year</th>\n",
       "      <th>sub_area</th>\n",
       "      <th>full_sq</th>\n",
       "      <th>build_year</th>\n",
       "      <th>floor</th>\n",
       "      <th>max_floor</th>\n",
       "      <th>product_type</th>\n",
       "      <th>area_m</th>\n",
       "      <th>raion_popul</th>\n",
       "      <th>metro_min_avto</th>\n",
       "      <th>park_km</th>\n",
       "      <th>green_zone_km</th>\n",
       "      <th>industrial_km</th>\n",
       "      <th>public_transport_station_km</th>\n",
       "      <th>water_km</th>\n",
       "      <th>big_road1_km</th>\n",
       "      <th>railroad_km</th>\n",
       "      <th>radiation_km</th>\n",
       "      <th>fitness_km</th>\n",
       "      <th>shopping_centers_km</th>\n",
       "      <th>preschool_km</th>\n",
       "      <th>usdrub</th>\n",
       "      <th>eurrub</th>\n",
       "      <th>brent</th>\n",
       "      <th>micex_cbi_tr</th>\n",
       "      <th>micex</th>\n",
       "      <th>micex_rgbi_tr</th>\n",
       "      <th>rts</th>\n",
       "      <th>oil_urals</th>\n",
       "      <th>cpi</th>\n",
       "      <th>balance_trade</th>\n",
       "      <th>gdp_quart</th>\n",
       "      <th>ppi</th>\n",
       "      <th>net_capital_export</th>\n",
       "      <th>rent_price_4+room_bus</th>\n",
       "      <th>deposits_growth</th>\n",
       "      <th>rent_price_2room_bus</th>\n",
       "      <th>gdp_quart_growth</th>\n",
       "      <th>rent_price_3room_bus</th>\n",
       "      <th>rent_price_1room_bus</th>\n",
       "    </tr>\n",
       "  </thead>\n",
       "  <tbody>\n",
       "    <tr>\n",
       "      <th>0</th>\n",
       "      <td>0.145700</td>\n",
       "      <td>0.177975</td>\n",
       "      <td>1.131260</td>\n",
       "      <td>0.974743</td>\n",
       "      <td>8</td>\n",
       "      <td>2011</td>\n",
       "      <td>1</td>\n",
       "      <td>43.0</td>\n",
       "      <td>1974</td>\n",
       "      <td>4.0</td>\n",
       "      <td>7.667123</td>\n",
       "      <td>0</td>\n",
       "      <td>6407578.100</td>\n",
       "      <td>155572</td>\n",
       "      <td>2.590241</td>\n",
       "      <td>2.158587</td>\n",
       "      <td>0.600973</td>\n",
       "      <td>1.080934</td>\n",
       "      <td>0.274985</td>\n",
       "      <td>0.992631</td>\n",
       "      <td>1.422391</td>\n",
       "      <td>1.305159</td>\n",
       "      <td>1.210027</td>\n",
       "      <td>0.485841</td>\n",
       "      <td>0.648488</td>\n",
       "      <td>0.177975</td>\n",
       "      <td>29.0048</td>\n",
       "      <td>41.7681</td>\n",
       "      <td>108.62</td>\n",
       "      <td>204.78</td>\n",
       "      <td>1438.74</td>\n",
       "      <td>131.16</td>\n",
       "      <td>1575.33</td>\n",
       "      <td>109.31</td>\n",
       "      <td>354.0</td>\n",
       "      <td>15.459</td>\n",
       "      <td>14313.7</td>\n",
       "      <td>420.7</td>\n",
       "      <td>0.301811</td>\n",
       "      <td>136.11</td>\n",
       "      <td>0.00974</td>\n",
       "      <td>62.89</td>\n",
       "      <td>3.3</td>\n",
       "      <td>77.93</td>\n",
       "      <td>47.85</td>\n",
       "    </tr>\n",
       "    <tr>\n",
       "      <th>1</th>\n",
       "      <td>0.147754</td>\n",
       "      <td>0.273345</td>\n",
       "      <td>0.647337</td>\n",
       "      <td>1.477723</td>\n",
       "      <td>8</td>\n",
       "      <td>2011</td>\n",
       "      <td>23</td>\n",
       "      <td>34.0</td>\n",
       "      <td>2017</td>\n",
       "      <td>3.0</td>\n",
       "      <td>7.667123</td>\n",
       "      <td>0</td>\n",
       "      <td>9589336.912</td>\n",
       "      <td>115352</td>\n",
       "      <td>0.936700</td>\n",
       "      <td>0.550690</td>\n",
       "      <td>0.065321</td>\n",
       "      <td>0.966479</td>\n",
       "      <td>0.065263</td>\n",
       "      <td>0.698081</td>\n",
       "      <td>2.887377</td>\n",
       "      <td>0.694536</td>\n",
       "      <td>2.724295</td>\n",
       "      <td>0.668364</td>\n",
       "      <td>0.519311</td>\n",
       "      <td>0.273345</td>\n",
       "      <td>28.9525</td>\n",
       "      <td>41.7537</td>\n",
       "      <td>109.31</td>\n",
       "      <td>204.92</td>\n",
       "      <td>1444.11</td>\n",
       "      <td>131.45</td>\n",
       "      <td>1578.91</td>\n",
       "      <td>109.31</td>\n",
       "      <td>354.0</td>\n",
       "      <td>15.459</td>\n",
       "      <td>14313.7</td>\n",
       "      <td>420.7</td>\n",
       "      <td>0.301811</td>\n",
       "      <td>136.11</td>\n",
       "      <td>0.00974</td>\n",
       "      <td>62.89</td>\n",
       "      <td>3.3</td>\n",
       "      <td>77.93</td>\n",
       "      <td>47.85</td>\n",
       "    </tr>\n",
       "  </tbody>\n",
       "</table>\n",
       "</div>"
      ],
      "text/plain": [
       "   kindergarten_km  school_km  metro_km_avto  public_healthcare_km  month  \\\n",
       "0         0.145700   0.177975       1.131260              0.974743      8   \n",
       "1         0.147754   0.273345       0.647337              1.477723      8   \n",
       "\n",
       "   year  sub_area  full_sq  build_year  floor  max_floor  product_type  \\\n",
       "0  2011         1     43.0        1974    4.0   7.667123             0   \n",
       "1  2011        23     34.0        2017    3.0   7.667123             0   \n",
       "\n",
       "        area_m  raion_popul  metro_min_avto   park_km  green_zone_km  \\\n",
       "0  6407578.100       155572        2.590241  2.158587       0.600973   \n",
       "1  9589336.912       115352        0.936700  0.550690       0.065321   \n",
       "\n",
       "   industrial_km  public_transport_station_km  water_km  big_road1_km  \\\n",
       "0       1.080934                     0.274985  0.992631      1.422391   \n",
       "1       0.966479                     0.065263  0.698081      2.887377   \n",
       "\n",
       "   railroad_km  radiation_km  fitness_km  shopping_centers_km  preschool_km  \\\n",
       "0     1.305159      1.210027    0.485841             0.648488      0.177975   \n",
       "1     0.694536      2.724295    0.668364             0.519311      0.273345   \n",
       "\n",
       "    usdrub   eurrub   brent  micex_cbi_tr    micex  micex_rgbi_tr      rts  \\\n",
       "0  29.0048  41.7681  108.62        204.78  1438.74         131.16  1575.33   \n",
       "1  28.9525  41.7537  109.31        204.92  1444.11         131.45  1578.91   \n",
       "\n",
       "   oil_urals    cpi  balance_trade  gdp_quart    ppi  net_capital_export  \\\n",
       "0     109.31  354.0         15.459    14313.7  420.7            0.301811   \n",
       "1     109.31  354.0         15.459    14313.7  420.7            0.301811   \n",
       "\n",
       "   rent_price_4+room_bus  deposits_growth  rent_price_2room_bus  \\\n",
       "0                 136.11          0.00974                 62.89   \n",
       "1                 136.11          0.00974                 62.89   \n",
       "\n",
       "   gdp_quart_growth  rent_price_3room_bus  rent_price_1room_bus  \n",
       "0               3.3                 77.93                 47.85  \n",
       "1               3.3                 77.93                 47.85  "
      ]
     },
     "execution_count": 48,
     "metadata": {},
     "output_type": "execute_result"
    }
   ],
   "source": [
    "X_train.head(2)"
   ]
  },
  {
   "cell_type": "code",
   "execution_count": 50,
   "metadata": {
    "collapsed": false
   },
   "outputs": [
    {
     "data": {
      "text/plain": [
       "0    5850000\n",
       "1    6000000\n",
       "Name: price_doc, dtype: int64"
      ]
     },
     "execution_count": 50,
     "metadata": {},
     "output_type": "execute_result"
    }
   ],
   "source": [
    "Y_train.head(2)"
   ]
  },
  {
   "cell_type": "code",
   "execution_count": 49,
   "metadata": {
    "collapsed": false
   },
   "outputs": [
    {
     "data": {
      "text/html": [
       "<div>\n",
       "<style>\n",
       "    .dataframe thead tr:only-child th {\n",
       "        text-align: right;\n",
       "    }\n",
       "\n",
       "    .dataframe thead th {\n",
       "        text-align: left;\n",
       "    }\n",
       "\n",
       "    .dataframe tbody tr th {\n",
       "        vertical-align: top;\n",
       "    }\n",
       "</style>\n",
       "<table border=\"1\" class=\"dataframe\">\n",
       "  <thead>\n",
       "    <tr style=\"text-align: right;\">\n",
       "      <th></th>\n",
       "      <th>kindergarten_km</th>\n",
       "      <th>school_km</th>\n",
       "      <th>metro_km_avto</th>\n",
       "      <th>public_healthcare_km</th>\n",
       "      <th>month</th>\n",
       "      <th>year</th>\n",
       "      <th>sub_area</th>\n",
       "      <th>full_sq</th>\n",
       "      <th>build_year</th>\n",
       "      <th>floor</th>\n",
       "      <th>max_floor</th>\n",
       "      <th>product_type</th>\n",
       "      <th>area_m</th>\n",
       "      <th>raion_popul</th>\n",
       "      <th>metro_min_avto</th>\n",
       "      <th>park_km</th>\n",
       "      <th>green_zone_km</th>\n",
       "      <th>industrial_km</th>\n",
       "      <th>public_transport_station_km</th>\n",
       "      <th>water_km</th>\n",
       "      <th>big_road1_km</th>\n",
       "      <th>railroad_km</th>\n",
       "      <th>radiation_km</th>\n",
       "      <th>fitness_km</th>\n",
       "      <th>shopping_centers_km</th>\n",
       "      <th>preschool_km</th>\n",
       "      <th>usdrub</th>\n",
       "      <th>eurrub</th>\n",
       "      <th>brent</th>\n",
       "      <th>micex_cbi_tr</th>\n",
       "      <th>micex</th>\n",
       "      <th>micex_rgbi_tr</th>\n",
       "      <th>rts</th>\n",
       "      <th>oil_urals</th>\n",
       "      <th>cpi</th>\n",
       "      <th>balance_trade</th>\n",
       "      <th>gdp_quart</th>\n",
       "      <th>ppi</th>\n",
       "      <th>net_capital_export</th>\n",
       "      <th>rent_price_4+room_bus</th>\n",
       "      <th>deposits_growth</th>\n",
       "      <th>rent_price_2room_bus</th>\n",
       "      <th>gdp_quart_growth</th>\n",
       "      <th>rent_price_3room_bus</th>\n",
       "      <th>rent_price_1room_bus</th>\n",
       "    </tr>\n",
       "  </thead>\n",
       "  <tbody>\n",
       "    <tr>\n",
       "      <th>0</th>\n",
       "      <td>0.078502</td>\n",
       "      <td>0.746962</td>\n",
       "      <td>0.735908</td>\n",
       "      <td>1.613152</td>\n",
       "      <td>7</td>\n",
       "      <td>2015</td>\n",
       "      <td>13</td>\n",
       "      <td>39.0</td>\n",
       "      <td>1998</td>\n",
       "      <td>2</td>\n",
       "      <td>9.0</td>\n",
       "      <td>0</td>\n",
       "      <td>26155137.04</td>\n",
       "      <td>178264</td>\n",
       "      <td>1.258957</td>\n",
       "      <td>2.048487</td>\n",
       "      <td>0.061485</td>\n",
       "      <td>1.205404</td>\n",
       "      <td>0.114134</td>\n",
       "      <td>0.248151</td>\n",
       "      <td>4.152246</td>\n",
       "      <td>0.490549</td>\n",
       "      <td>6.620081</td>\n",
       "      <td>0.225788</td>\n",
       "      <td>2.414138</td>\n",
       "      <td>0.746962</td>\n",
       "      <td>55.5989</td>\n",
       "      <td>61.5756</td>\n",
       "      <td>62.01</td>\n",
       "      <td>267.7</td>\n",
       "      <td>1639.7</td>\n",
       "      <td>118.73</td>\n",
       "      <td>930.66</td>\n",
       "      <td>55.8961</td>\n",
       "      <td>490.5</td>\n",
       "      <td>14.788</td>\n",
       "      <td>19284.1</td>\n",
       "      <td>572.8</td>\n",
       "      <td>-0.065116</td>\n",
       "      <td>211.83</td>\n",
       "      <td>0.026267</td>\n",
       "      <td>77.49</td>\n",
       "      <td>-4.5</td>\n",
       "      <td>115.64</td>\n",
       "      <td>52.36</td>\n",
       "    </tr>\n",
       "    <tr>\n",
       "      <th>1</th>\n",
       "      <td>1.192193</td>\n",
       "      <td>1.332570</td>\n",
       "      <td>3.444625</td>\n",
       "      <td>3.775300</td>\n",
       "      <td>7</td>\n",
       "      <td>2015</td>\n",
       "      <td>36</td>\n",
       "      <td>79.2</td>\n",
       "      <td>2014</td>\n",
       "      <td>8</td>\n",
       "      <td>17.0</td>\n",
       "      <td>1</td>\n",
       "      <td>25536296.81</td>\n",
       "      <td>4001</td>\n",
       "      <td>4.230425</td>\n",
       "      <td>4.400427</td>\n",
       "      <td>0.000000</td>\n",
       "      <td>0.742377</td>\n",
       "      <td>0.826083</td>\n",
       "      <td>0.799853</td>\n",
       "      <td>2.148398</td>\n",
       "      <td>2.342346</td>\n",
       "      <td>8.545593</td>\n",
       "      <td>1.313180</td>\n",
       "      <td>1.764298</td>\n",
       "      <td>1.332570</td>\n",
       "      <td>55.5989</td>\n",
       "      <td>61.5756</td>\n",
       "      <td>62.01</td>\n",
       "      <td>267.7</td>\n",
       "      <td>1639.7</td>\n",
       "      <td>118.73</td>\n",
       "      <td>930.66</td>\n",
       "      <td>55.8961</td>\n",
       "      <td>490.5</td>\n",
       "      <td>14.788</td>\n",
       "      <td>19284.1</td>\n",
       "      <td>572.8</td>\n",
       "      <td>-0.065116</td>\n",
       "      <td>211.83</td>\n",
       "      <td>0.026267</td>\n",
       "      <td>77.49</td>\n",
       "      <td>-4.5</td>\n",
       "      <td>115.64</td>\n",
       "      <td>52.36</td>\n",
       "    </tr>\n",
       "  </tbody>\n",
       "</table>\n",
       "</div>"
      ],
      "text/plain": [
       "   kindergarten_km  school_km  metro_km_avto  public_healthcare_km  month  \\\n",
       "0         0.078502   0.746962       0.735908              1.613152      7   \n",
       "1         1.192193   1.332570       3.444625              3.775300      7   \n",
       "\n",
       "   year  sub_area  full_sq  build_year  floor  max_floor  product_type  \\\n",
       "0  2015        13     39.0        1998      2        9.0             0   \n",
       "1  2015        36     79.2        2014      8       17.0             1   \n",
       "\n",
       "        area_m  raion_popul  metro_min_avto   park_km  green_zone_km  \\\n",
       "0  26155137.04       178264        1.258957  2.048487       0.061485   \n",
       "1  25536296.81         4001        4.230425  4.400427       0.000000   \n",
       "\n",
       "   industrial_km  public_transport_station_km  water_km  big_road1_km  \\\n",
       "0       1.205404                     0.114134  0.248151      4.152246   \n",
       "1       0.742377                     0.826083  0.799853      2.148398   \n",
       "\n",
       "   railroad_km  radiation_km  fitness_km  shopping_centers_km  preschool_km  \\\n",
       "0     0.490549      6.620081    0.225788             2.414138      0.746962   \n",
       "1     2.342346      8.545593    1.313180             1.764298      1.332570   \n",
       "\n",
       "    usdrub   eurrub  brent  micex_cbi_tr   micex  micex_rgbi_tr     rts  \\\n",
       "0  55.5989  61.5756  62.01         267.7  1639.7         118.73  930.66   \n",
       "1  55.5989  61.5756  62.01         267.7  1639.7         118.73  930.66   \n",
       "\n",
       "   oil_urals    cpi  balance_trade  gdp_quart    ppi  net_capital_export  \\\n",
       "0    55.8961  490.5         14.788    19284.1  572.8           -0.065116   \n",
       "1    55.8961  490.5         14.788    19284.1  572.8           -0.065116   \n",
       "\n",
       "   rent_price_4+room_bus  deposits_growth  rent_price_2room_bus  \\\n",
       "0                 211.83         0.026267                 77.49   \n",
       "1                 211.83         0.026267                 77.49   \n",
       "\n",
       "   gdp_quart_growth  rent_price_3room_bus  rent_price_1room_bus  \n",
       "0              -4.5                115.64                 52.36  \n",
       "1              -4.5                115.64                 52.36  "
      ]
     },
     "execution_count": 49,
     "metadata": {},
     "output_type": "execute_result"
    }
   ],
   "source": [
    "test.head(2)"
   ]
  },
  {
   "cell_type": "markdown",
   "metadata": {},
   "source": [
    "## CV"
   ]
  },
  {
   "cell_type": "code",
   "execution_count": 8,
   "metadata": {
    "collapsed": false
   },
   "outputs": [
    {
     "name": "stderr",
     "output_type": "stream",
     "text": [
      "/Users/jackyip/anaconda/lib/python2.7/site-packages/sklearn/cross_validation.py:44: DeprecationWarning: This module was deprecated in version 0.18 in favor of the model_selection module into which all the refactored classes and functions are moved. Also note that the interface of the new CV iterators are different from that of this module. This module will be removed in 0.20.\n",
      "  \"This module will be removed in 0.20.\", DeprecationWarning)\n",
      "/Users/jackyip/anaconda/lib/python2.7/site-packages/sklearn/grid_search.py:43: DeprecationWarning: This module was deprecated in version 0.18 in favor of the model_selection module into which all the refactored classes and functions are moved. This module will be removed in 0.20.\n",
      "  DeprecationWarning)\n"
     ]
    }
   ],
   "source": [
    "from sklearn.grid_search import GridSearchCV"
   ]
  },
  {
   "cell_type": "code",
   "execution_count": 17,
   "metadata": {
    "collapsed": false
   },
   "outputs": [
    {
     "name": "stdout",
     "output_type": "stream",
     "text": [
      "Fitting 3 folds for each of 3 candidates, totalling 9 fits\n"
     ]
    },
    {
     "name": "stderr",
     "output_type": "stream",
     "text": [
      "/Users/jackyip/anaconda/lib/python2.7/site-packages/xgboost-0.6-py2.7.egg/xgboost/sklearn.py:163: DeprecationWarning: The nthread parameter is deprecated as of version .6.Please use n_jobs instead.nthread is deprecated.\n",
      "  'nthread is deprecated.', DeprecationWarning)\n",
      "/Users/jackyip/anaconda/lib/python2.7/site-packages/xgboost-0.6-py2.7.egg/xgboost/sklearn.py:163: DeprecationWarning: The nthread parameter is deprecated as of version .6.Please use n_jobs instead.nthread is deprecated.\n",
      "  'nthread is deprecated.', DeprecationWarning)\n",
      "/Users/jackyip/anaconda/lib/python2.7/site-packages/xgboost-0.6-py2.7.egg/xgboost/sklearn.py:163: DeprecationWarning: The nthread parameter is deprecated as of version .6.Please use n_jobs instead.nthread is deprecated.\n",
      "  'nthread is deprecated.', DeprecationWarning)\n",
      "/Users/jackyip/anaconda/lib/python2.7/site-packages/xgboost-0.6-py2.7.egg/xgboost/sklearn.py:163: DeprecationWarning: The nthread parameter is deprecated as of version .6.Please use n_jobs instead.nthread is deprecated.\n",
      "  'nthread is deprecated.', DeprecationWarning)\n",
      "/Users/jackyip/anaconda/lib/python2.7/site-packages/xgboost-0.6-py2.7.egg/xgboost/sklearn.py:163: DeprecationWarning: The nthread parameter is deprecated as of version .6.Please use n_jobs instead.nthread is deprecated.\n",
      "  'nthread is deprecated.', DeprecationWarning)\n",
      "/Users/jackyip/anaconda/lib/python2.7/site-packages/xgboost-0.6-py2.7.egg/xgboost/sklearn.py:163: DeprecationWarning: The nthread parameter is deprecated as of version .6.Please use n_jobs instead.nthread is deprecated.\n",
      "  'nthread is deprecated.', DeprecationWarning)\n",
      "/Users/jackyip/anaconda/lib/python2.7/site-packages/xgboost-0.6-py2.7.egg/xgboost/sklearn.py:163: DeprecationWarning: The nthread parameter is deprecated as of version .6.Please use n_jobs instead.nthread is deprecated.\n",
      "  'nthread is deprecated.', DeprecationWarning)\n",
      "/Users/jackyip/anaconda/lib/python2.7/site-packages/xgboost-0.6-py2.7.egg/xgboost/sklearn.py:163: DeprecationWarning: The nthread parameter is deprecated as of version .6.Please use n_jobs instead.nthread is deprecated.\n",
      "  'nthread is deprecated.', DeprecationWarning)\n",
      "/Users/jackyip/anaconda/lib/python2.7/site-packages/xgboost-0.6-py2.7.egg/xgboost/sklearn.py:163: DeprecationWarning: The nthread parameter is deprecated as of version .6.Please use n_jobs instead.nthread is deprecated.\n",
      "  'nthread is deprecated.', DeprecationWarning)\n",
      "/Users/jackyip/anaconda/lib/python2.7/site-packages/xgboost-0.6-py2.7.egg/xgboost/sklearn.py:163: DeprecationWarning: The nthread parameter is deprecated as of version .6.Please use n_jobs instead.nthread is deprecated.\n",
      "  'nthread is deprecated.', DeprecationWarning)\n",
      "[Parallel(n_jobs=1)]: Done   9 out of   9 | elapsed: 13.7min finished\n",
      "/Users/jackyip/anaconda/lib/python2.7/site-packages/xgboost-0.6-py2.7.egg/xgboost/sklearn.py:163: DeprecationWarning: The nthread parameter is deprecated as of version .6.Please use n_jobs instead.nthread is deprecated.\n",
      "  'nthread is deprecated.', DeprecationWarning)\n"
     ]
    },
    {
     "data": {
      "text/plain": [
       "GridSearchCV(cv=None, error_score='raise',\n",
       "       estimator=XGBRegressor(base_score=0.5, booster='gbtree', colsample_bylevel=1,\n",
       "       colsample_bytree=1, gamma=0, learning_rate=0.1, max_delta_step=0,\n",
       "       max_depth=3, min_child_weight=1, missing=None, n_estimators=100,\n",
       "       n_jobs=1, nthread=1, objective='reg:linear', random_state=0,\n",
       "       reg_alpha=0, reg_lambda=1, scale_pos_weight=1, seed=0, silent=True,\n",
       "       subsample=1),\n",
       "       fit_params={}, iid=True, n_jobs=1,\n",
       "       param_grid={'n_estimators': [100, 500, 1000], 'learning_rate': [0.2], 'max_depth': [5]},\n",
       "       pre_dispatch='2*n_jobs', refit=True, scoring=None, verbose=1)"
      ]
     },
     "execution_count": 17,
     "metadata": {},
     "output_type": "execute_result"
    }
   ],
   "source": [
    "# before timestamp removed\n",
    "xgb_model = xgb.XGBRegressor()\n",
    "clf = GridSearchCV(xgb_model,\n",
    "                   {'learning_rate': [0.2],\n",
    "                    'max_depth': [5],\n",
    "                    'n_estimators': [100, 500, 1000]}, verbose=1)\n",
    "clf.fit(X_train, Y_train)"
   ]
  },
  {
   "cell_type": "code",
   "execution_count": 14,
   "metadata": {
    "collapsed": false
   },
   "outputs": [
    {
     "name": "stdout",
     "output_type": "stream",
     "text": [
      "0.580678180337\n",
      "{'n_estimators': 100, 'max_depth': 6}\n"
     ]
    }
   ],
   "source": [
    "# before timestamp removed\n",
    "print(clf.best_score_)\n",
    "print(clf.best_params_)\n",
    "#0.580678180337\n",
    "#{'n_estimators': 100, 'max_depth': 6}"
   ]
  },
  {
   "cell_type": "code",
   "execution_count": 18,
   "metadata": {
    "collapsed": false
   },
   "outputs": [
    {
     "name": "stdout",
     "output_type": "stream",
     "text": [
      "0.561476098965\n",
      "{'n_estimators': 100, 'learning_rate': 0.2, 'max_depth': 5}\n"
     ]
    }
   ],
   "source": [
    "# before timestamp removed\n",
    "print(clf.best_score_)\n",
    "print(clf.best_params_)\n",
    "#0.561476098965\n",
    "#{'n_estimators': 100, 'learning_rate': 0.2, 'max_depth': 5}"
   ]
  },
  {
   "cell_type": "code",
   "execution_count": 28,
   "metadata": {
    "collapsed": false
   },
   "outputs": [
    {
     "name": "stdout",
     "output_type": "stream",
     "text": [
      "Fitting 3 folds for each of 4 candidates, totalling 12 fits\n"
     ]
    },
    {
     "name": "stderr",
     "output_type": "stream",
     "text": [
      "/Users/jackyip/anaconda/lib/python2.7/site-packages/xgboost-0.6-py2.7.egg/xgboost/sklearn.py:163: DeprecationWarning: The nthread parameter is deprecated as of version .6.Please use n_jobs instead.nthread is deprecated.\n",
      "  'nthread is deprecated.', DeprecationWarning)\n",
      "/Users/jackyip/anaconda/lib/python2.7/site-packages/xgboost-0.6-py2.7.egg/xgboost/sklearn.py:163: DeprecationWarning: The nthread parameter is deprecated as of version .6.Please use n_jobs instead.nthread is deprecated.\n",
      "  'nthread is deprecated.', DeprecationWarning)\n",
      "/Users/jackyip/anaconda/lib/python2.7/site-packages/xgboost-0.6-py2.7.egg/xgboost/sklearn.py:163: DeprecationWarning: The nthread parameter is deprecated as of version .6.Please use n_jobs instead.nthread is deprecated.\n",
      "  'nthread is deprecated.', DeprecationWarning)\n",
      "/Users/jackyip/anaconda/lib/python2.7/site-packages/xgboost-0.6-py2.7.egg/xgboost/sklearn.py:163: DeprecationWarning: The nthread parameter is deprecated as of version .6.Please use n_jobs instead.nthread is deprecated.\n",
      "  'nthread is deprecated.', DeprecationWarning)\n",
      "/Users/jackyip/anaconda/lib/python2.7/site-packages/xgboost-0.6-py2.7.egg/xgboost/sklearn.py:163: DeprecationWarning: The nthread parameter is deprecated as of version .6.Please use n_jobs instead.nthread is deprecated.\n",
      "  'nthread is deprecated.', DeprecationWarning)\n",
      "/Users/jackyip/anaconda/lib/python2.7/site-packages/xgboost-0.6-py2.7.egg/xgboost/sklearn.py:163: DeprecationWarning: The nthread parameter is deprecated as of version .6.Please use n_jobs instead.nthread is deprecated.\n",
      "  'nthread is deprecated.', DeprecationWarning)\n",
      "/Users/jackyip/anaconda/lib/python2.7/site-packages/xgboost-0.6-py2.7.egg/xgboost/sklearn.py:163: DeprecationWarning: The nthread parameter is deprecated as of version .6.Please use n_jobs instead.nthread is deprecated.\n",
      "  'nthread is deprecated.', DeprecationWarning)\n",
      "/Users/jackyip/anaconda/lib/python2.7/site-packages/xgboost-0.6-py2.7.egg/xgboost/sklearn.py:163: DeprecationWarning: The nthread parameter is deprecated as of version .6.Please use n_jobs instead.nthread is deprecated.\n",
      "  'nthread is deprecated.', DeprecationWarning)\n",
      "/Users/jackyip/anaconda/lib/python2.7/site-packages/xgboost-0.6-py2.7.egg/xgboost/sklearn.py:163: DeprecationWarning: The nthread parameter is deprecated as of version .6.Please use n_jobs instead.nthread is deprecated.\n",
      "  'nthread is deprecated.', DeprecationWarning)\n",
      "/Users/jackyip/anaconda/lib/python2.7/site-packages/xgboost-0.6-py2.7.egg/xgboost/sklearn.py:163: DeprecationWarning: The nthread parameter is deprecated as of version .6.Please use n_jobs instead.nthread is deprecated.\n",
      "  'nthread is deprecated.', DeprecationWarning)\n",
      "/Users/jackyip/anaconda/lib/python2.7/site-packages/xgboost-0.6-py2.7.egg/xgboost/sklearn.py:163: DeprecationWarning: The nthread parameter is deprecated as of version .6.Please use n_jobs instead.nthread is deprecated.\n",
      "  'nthread is deprecated.', DeprecationWarning)\n",
      "/Users/jackyip/anaconda/lib/python2.7/site-packages/xgboost-0.6-py2.7.egg/xgboost/sklearn.py:163: DeprecationWarning: The nthread parameter is deprecated as of version .6.Please use n_jobs instead.nthread is deprecated.\n",
      "  'nthread is deprecated.', DeprecationWarning)\n",
      "/Users/jackyip/anaconda/lib/python2.7/site-packages/xgboost-0.6-py2.7.egg/xgboost/sklearn.py:163: DeprecationWarning: The nthread parameter is deprecated as of version .6.Please use n_jobs instead.nthread is deprecated.\n",
      "  'nthread is deprecated.', DeprecationWarning)\n",
      "[Parallel(n_jobs=1)]: Done  12 out of  12 | elapsed:  4.6min finished\n",
      "/Users/jackyip/anaconda/lib/python2.7/site-packages/xgboost-0.6-py2.7.egg/xgboost/sklearn.py:163: DeprecationWarning: The nthread parameter is deprecated as of version .6.Please use n_jobs instead.nthread is deprecated.\n",
      "  'nthread is deprecated.', DeprecationWarning)\n"
     ]
    },
    {
     "data": {
      "text/plain": [
       "GridSearchCV(cv=None, error_score='raise',\n",
       "       estimator=XGBRegressor(base_score=0.5, booster='gbtree', colsample_bylevel=1,\n",
       "       colsample_bytree=1, gamma=0, learning_rate=0.1, max_delta_step=0,\n",
       "       max_depth=3, min_child_weight=1, missing=None, n_estimators=100,\n",
       "       n_jobs=1, nthread=1, objective='reg:linear', random_state=0,\n",
       "       reg_alpha=0, reg_lambda=1, scale_pos_weight=1, seed=0, silent=True,\n",
       "       subsample=1),\n",
       "       fit_params={}, iid=True, n_jobs=1,\n",
       "       param_grid={'n_estimators': [100], 'learning_rate': [0.05, 0.1, 0.15, 0.2], 'max_depth': [6]},\n",
       "       pre_dispatch='2*n_jobs', refit=True, scoring=None, verbose=1)"
      ]
     },
     "execution_count": 28,
     "metadata": {},
     "output_type": "execute_result"
    }
   ],
   "source": [
    "# trial 3\n",
    "xgb_model = xgb.XGBRegressor()\n",
    "clf = GridSearchCV(xgb_model,\n",
    "                   {'learning_rate': [0.05, 0.1, 0.15, 0.2],\n",
    "                    'max_depth': [6],\n",
    "                    'n_estimators': [100]}, verbose=1)\n",
    "clf.fit(X_train, Y_train)"
   ]
  },
  {
   "cell_type": "code",
   "execution_count": 29,
   "metadata": {
    "collapsed": false
   },
   "outputs": [
    {
     "name": "stdout",
     "output_type": "stream",
     "text": [
      "0.581329819578\n",
      "{'n_estimators': 100, 'learning_rate': 0.1, 'max_depth': 6}\n"
     ]
    }
   ],
   "source": [
    "# trial 3\n",
    "print(clf.best_score_)\n",
    "print(clf.best_params_)\n",
    "#0.581329819578\n",
    "#{'n_estimators': 100, 'learning_rate': 0.1, 'max_depth': 6}"
   ]
  },
  {
   "cell_type": "code",
   "execution_count": 30,
   "metadata": {
    "collapsed": false
   },
   "outputs": [
    {
     "name": "stdout",
     "output_type": "stream",
     "text": [
      "Fitting 3 folds for each of 27 candidates, totalling 81 fits\n"
     ]
    },
    {
     "name": "stderr",
     "output_type": "stream",
     "text": [
      "/Users/jackyip/anaconda/lib/python2.7/site-packages/xgboost-0.6-py2.7.egg/xgboost/sklearn.py:163: DeprecationWarning: The nthread parameter is deprecated as of version .6.Please use n_jobs instead.nthread is deprecated.\n",
      "  'nthread is deprecated.', DeprecationWarning)\n",
      "/Users/jackyip/anaconda/lib/python2.7/site-packages/xgboost-0.6-py2.7.egg/xgboost/sklearn.py:163: DeprecationWarning: The nthread parameter is deprecated as of version .6.Please use n_jobs instead.nthread is deprecated.\n",
      "  'nthread is deprecated.', DeprecationWarning)\n",
      "/Users/jackyip/anaconda/lib/python2.7/site-packages/xgboost-0.6-py2.7.egg/xgboost/sklearn.py:163: DeprecationWarning: The nthread parameter is deprecated as of version .6.Please use n_jobs instead.nthread is deprecated.\n",
      "  'nthread is deprecated.', DeprecationWarning)\n",
      "/Users/jackyip/anaconda/lib/python2.7/site-packages/xgboost-0.6-py2.7.egg/xgboost/sklearn.py:163: DeprecationWarning: The nthread parameter is deprecated as of version .6.Please use n_jobs instead.nthread is deprecated.\n",
      "  'nthread is deprecated.', DeprecationWarning)\n",
      "/Users/jackyip/anaconda/lib/python2.7/site-packages/xgboost-0.6-py2.7.egg/xgboost/sklearn.py:163: DeprecationWarning: The nthread parameter is deprecated as of version .6.Please use n_jobs instead.nthread is deprecated.\n",
      "  'nthread is deprecated.', DeprecationWarning)\n",
      "/Users/jackyip/anaconda/lib/python2.7/site-packages/xgboost-0.6-py2.7.egg/xgboost/sklearn.py:163: DeprecationWarning: The nthread parameter is deprecated as of version .6.Please use n_jobs instead.nthread is deprecated.\n",
      "  'nthread is deprecated.', DeprecationWarning)\n",
      "/Users/jackyip/anaconda/lib/python2.7/site-packages/xgboost-0.6-py2.7.egg/xgboost/sklearn.py:163: DeprecationWarning: The nthread parameter is deprecated as of version .6.Please use n_jobs instead.nthread is deprecated.\n",
      "  'nthread is deprecated.', DeprecationWarning)\n",
      "/Users/jackyip/anaconda/lib/python2.7/site-packages/xgboost-0.6-py2.7.egg/xgboost/sklearn.py:163: DeprecationWarning: The nthread parameter is deprecated as of version .6.Please use n_jobs instead.nthread is deprecated.\n",
      "  'nthread is deprecated.', DeprecationWarning)\n",
      "/Users/jackyip/anaconda/lib/python2.7/site-packages/xgboost-0.6-py2.7.egg/xgboost/sklearn.py:163: DeprecationWarning: The nthread parameter is deprecated as of version .6.Please use n_jobs instead.nthread is deprecated.\n",
      "  'nthread is deprecated.', DeprecationWarning)\n",
      "/Users/jackyip/anaconda/lib/python2.7/site-packages/xgboost-0.6-py2.7.egg/xgboost/sklearn.py:163: DeprecationWarning: The nthread parameter is deprecated as of version .6.Please use n_jobs instead.nthread is deprecated.\n",
      "  'nthread is deprecated.', DeprecationWarning)\n",
      "/Users/jackyip/anaconda/lib/python2.7/site-packages/xgboost-0.6-py2.7.egg/xgboost/sklearn.py:163: DeprecationWarning: The nthread parameter is deprecated as of version .6.Please use n_jobs instead.nthread is deprecated.\n",
      "  'nthread is deprecated.', DeprecationWarning)\n",
      "/Users/jackyip/anaconda/lib/python2.7/site-packages/xgboost-0.6-py2.7.egg/xgboost/sklearn.py:163: DeprecationWarning: The nthread parameter is deprecated as of version .6.Please use n_jobs instead.nthread is deprecated.\n",
      "  'nthread is deprecated.', DeprecationWarning)\n",
      "/Users/jackyip/anaconda/lib/python2.7/site-packages/xgboost-0.6-py2.7.egg/xgboost/sklearn.py:163: DeprecationWarning: The nthread parameter is deprecated as of version .6.Please use n_jobs instead.nthread is deprecated.\n",
      "  'nthread is deprecated.', DeprecationWarning)\n",
      "/Users/jackyip/anaconda/lib/python2.7/site-packages/xgboost-0.6-py2.7.egg/xgboost/sklearn.py:163: DeprecationWarning: The nthread parameter is deprecated as of version .6.Please use n_jobs instead.nthread is deprecated.\n",
      "  'nthread is deprecated.', DeprecationWarning)\n",
      "/Users/jackyip/anaconda/lib/python2.7/site-packages/xgboost-0.6-py2.7.egg/xgboost/sklearn.py:163: DeprecationWarning: The nthread parameter is deprecated as of version .6.Please use n_jobs instead.nthread is deprecated.\n",
      "  'nthread is deprecated.', DeprecationWarning)\n",
      "/Users/jackyip/anaconda/lib/python2.7/site-packages/xgboost-0.6-py2.7.egg/xgboost/sklearn.py:163: DeprecationWarning: The nthread parameter is deprecated as of version .6.Please use n_jobs instead.nthread is deprecated.\n",
      "  'nthread is deprecated.', DeprecationWarning)\n",
      "/Users/jackyip/anaconda/lib/python2.7/site-packages/xgboost-0.6-py2.7.egg/xgboost/sklearn.py:163: DeprecationWarning: The nthread parameter is deprecated as of version .6.Please use n_jobs instead.nthread is deprecated.\n",
      "  'nthread is deprecated.', DeprecationWarning)\n",
      "/Users/jackyip/anaconda/lib/python2.7/site-packages/xgboost-0.6-py2.7.egg/xgboost/sklearn.py:163: DeprecationWarning: The nthread parameter is deprecated as of version .6.Please use n_jobs instead.nthread is deprecated.\n",
      "  'nthread is deprecated.', DeprecationWarning)\n",
      "/Users/jackyip/anaconda/lib/python2.7/site-packages/xgboost-0.6-py2.7.egg/xgboost/sklearn.py:163: DeprecationWarning: The nthread parameter is deprecated as of version .6.Please use n_jobs instead.nthread is deprecated.\n",
      "  'nthread is deprecated.', DeprecationWarning)\n",
      "/Users/jackyip/anaconda/lib/python2.7/site-packages/xgboost-0.6-py2.7.egg/xgboost/sklearn.py:163: DeprecationWarning: The nthread parameter is deprecated as of version .6.Please use n_jobs instead.nthread is deprecated.\n",
      "  'nthread is deprecated.', DeprecationWarning)\n",
      "/Users/jackyip/anaconda/lib/python2.7/site-packages/xgboost-0.6-py2.7.egg/xgboost/sklearn.py:163: DeprecationWarning: The nthread parameter is deprecated as of version .6.Please use n_jobs instead.nthread is deprecated.\n",
      "  'nthread is deprecated.', DeprecationWarning)\n",
      "/Users/jackyip/anaconda/lib/python2.7/site-packages/xgboost-0.6-py2.7.egg/xgboost/sklearn.py:163: DeprecationWarning: The nthread parameter is deprecated as of version .6.Please use n_jobs instead.nthread is deprecated.\n",
      "  'nthread is deprecated.', DeprecationWarning)\n",
      "/Users/jackyip/anaconda/lib/python2.7/site-packages/xgboost-0.6-py2.7.egg/xgboost/sklearn.py:163: DeprecationWarning: The nthread parameter is deprecated as of version .6.Please use n_jobs instead.nthread is deprecated.\n",
      "  'nthread is deprecated.', DeprecationWarning)\n",
      "/Users/jackyip/anaconda/lib/python2.7/site-packages/xgboost-0.6-py2.7.egg/xgboost/sklearn.py:163: DeprecationWarning: The nthread parameter is deprecated as of version .6.Please use n_jobs instead.nthread is deprecated.\n",
      "  'nthread is deprecated.', DeprecationWarning)\n",
      "/Users/jackyip/anaconda/lib/python2.7/site-packages/xgboost-0.6-py2.7.egg/xgboost/sklearn.py:163: DeprecationWarning: The nthread parameter is deprecated as of version .6.Please use n_jobs instead.nthread is deprecated.\n",
      "  'nthread is deprecated.', DeprecationWarning)\n",
      "/Users/jackyip/anaconda/lib/python2.7/site-packages/xgboost-0.6-py2.7.egg/xgboost/sklearn.py:163: DeprecationWarning: The nthread parameter is deprecated as of version .6.Please use n_jobs instead.nthread is deprecated.\n",
      "  'nthread is deprecated.', DeprecationWarning)\n",
      "/Users/jackyip/anaconda/lib/python2.7/site-packages/xgboost-0.6-py2.7.egg/xgboost/sklearn.py:163: DeprecationWarning: The nthread parameter is deprecated as of version .6.Please use n_jobs instead.nthread is deprecated.\n",
      "  'nthread is deprecated.', DeprecationWarning)\n",
      "/Users/jackyip/anaconda/lib/python2.7/site-packages/xgboost-0.6-py2.7.egg/xgboost/sklearn.py:163: DeprecationWarning: The nthread parameter is deprecated as of version .6.Please use n_jobs instead.nthread is deprecated.\n",
      "  'nthread is deprecated.', DeprecationWarning)\n",
      "/Users/jackyip/anaconda/lib/python2.7/site-packages/xgboost-0.6-py2.7.egg/xgboost/sklearn.py:163: DeprecationWarning: The nthread parameter is deprecated as of version .6.Please use n_jobs instead.nthread is deprecated.\n",
      "  'nthread is deprecated.', DeprecationWarning)\n",
      "/Users/jackyip/anaconda/lib/python2.7/site-packages/xgboost-0.6-py2.7.egg/xgboost/sklearn.py:163: DeprecationWarning: The nthread parameter is deprecated as of version .6.Please use n_jobs instead.nthread is deprecated.\n",
      "  'nthread is deprecated.', DeprecationWarning)\n",
      "/Users/jackyip/anaconda/lib/python2.7/site-packages/xgboost-0.6-py2.7.egg/xgboost/sklearn.py:163: DeprecationWarning: The nthread parameter is deprecated as of version .6.Please use n_jobs instead.nthread is deprecated.\n",
      "  'nthread is deprecated.', DeprecationWarning)\n",
      "/Users/jackyip/anaconda/lib/python2.7/site-packages/xgboost-0.6-py2.7.egg/xgboost/sklearn.py:163: DeprecationWarning: The nthread parameter is deprecated as of version .6.Please use n_jobs instead.nthread is deprecated.\n",
      "  'nthread is deprecated.', DeprecationWarning)\n",
      "/Users/jackyip/anaconda/lib/python2.7/site-packages/xgboost-0.6-py2.7.egg/xgboost/sklearn.py:163: DeprecationWarning: The nthread parameter is deprecated as of version .6.Please use n_jobs instead.nthread is deprecated.\n",
      "  'nthread is deprecated.', DeprecationWarning)\n",
      "/Users/jackyip/anaconda/lib/python2.7/site-packages/xgboost-0.6-py2.7.egg/xgboost/sklearn.py:163: DeprecationWarning: The nthread parameter is deprecated as of version .6.Please use n_jobs instead.nthread is deprecated.\n",
      "  'nthread is deprecated.', DeprecationWarning)\n",
      "/Users/jackyip/anaconda/lib/python2.7/site-packages/xgboost-0.6-py2.7.egg/xgboost/sklearn.py:163: DeprecationWarning: The nthread parameter is deprecated as of version .6.Please use n_jobs instead.nthread is deprecated.\n",
      "  'nthread is deprecated.', DeprecationWarning)\n",
      "/Users/jackyip/anaconda/lib/python2.7/site-packages/xgboost-0.6-py2.7.egg/xgboost/sklearn.py:163: DeprecationWarning: The nthread parameter is deprecated as of version .6.Please use n_jobs instead.nthread is deprecated.\n",
      "  'nthread is deprecated.', DeprecationWarning)\n",
      "/Users/jackyip/anaconda/lib/python2.7/site-packages/xgboost-0.6-py2.7.egg/xgboost/sklearn.py:163: DeprecationWarning: The nthread parameter is deprecated as of version .6.Please use n_jobs instead.nthread is deprecated.\n",
      "  'nthread is deprecated.', DeprecationWarning)\n",
      "/Users/jackyip/anaconda/lib/python2.7/site-packages/xgboost-0.6-py2.7.egg/xgboost/sklearn.py:163: DeprecationWarning: The nthread parameter is deprecated as of version .6.Please use n_jobs instead.nthread is deprecated.\n",
      "  'nthread is deprecated.', DeprecationWarning)\n",
      "/Users/jackyip/anaconda/lib/python2.7/site-packages/xgboost-0.6-py2.7.egg/xgboost/sklearn.py:163: DeprecationWarning: The nthread parameter is deprecated as of version .6.Please use n_jobs instead.nthread is deprecated.\n",
      "  'nthread is deprecated.', DeprecationWarning)\n",
      "/Users/jackyip/anaconda/lib/python2.7/site-packages/xgboost-0.6-py2.7.egg/xgboost/sklearn.py:163: DeprecationWarning: The nthread parameter is deprecated as of version .6.Please use n_jobs instead.nthread is deprecated.\n",
      "  'nthread is deprecated.', DeprecationWarning)\n",
      "/Users/jackyip/anaconda/lib/python2.7/site-packages/xgboost-0.6-py2.7.egg/xgboost/sklearn.py:163: DeprecationWarning: The nthread parameter is deprecated as of version .6.Please use n_jobs instead.nthread is deprecated.\n",
      "  'nthread is deprecated.', DeprecationWarning)\n",
      "/Users/jackyip/anaconda/lib/python2.7/site-packages/xgboost-0.6-py2.7.egg/xgboost/sklearn.py:163: DeprecationWarning: The nthread parameter is deprecated as of version .6.Please use n_jobs instead.nthread is deprecated.\n",
      "  'nthread is deprecated.', DeprecationWarning)\n",
      "/Users/jackyip/anaconda/lib/python2.7/site-packages/xgboost-0.6-py2.7.egg/xgboost/sklearn.py:163: DeprecationWarning: The nthread parameter is deprecated as of version .6.Please use n_jobs instead.nthread is deprecated.\n",
      "  'nthread is deprecated.', DeprecationWarning)\n",
      "/Users/jackyip/anaconda/lib/python2.7/site-packages/xgboost-0.6-py2.7.egg/xgboost/sklearn.py:163: DeprecationWarning: The nthread parameter is deprecated as of version .6.Please use n_jobs instead.nthread is deprecated.\n",
      "  'nthread is deprecated.', DeprecationWarning)\n",
      "/Users/jackyip/anaconda/lib/python2.7/site-packages/xgboost-0.6-py2.7.egg/xgboost/sklearn.py:163: DeprecationWarning: The nthread parameter is deprecated as of version .6.Please use n_jobs instead.nthread is deprecated.\n",
      "  'nthread is deprecated.', DeprecationWarning)\n",
      "/Users/jackyip/anaconda/lib/python2.7/site-packages/xgboost-0.6-py2.7.egg/xgboost/sklearn.py:163: DeprecationWarning: The nthread parameter is deprecated as of version .6.Please use n_jobs instead.nthread is deprecated.\n",
      "  'nthread is deprecated.', DeprecationWarning)\n",
      "/Users/jackyip/anaconda/lib/python2.7/site-packages/xgboost-0.6-py2.7.egg/xgboost/sklearn.py:163: DeprecationWarning: The nthread parameter is deprecated as of version .6.Please use n_jobs instead.nthread is deprecated.\n",
      "  'nthread is deprecated.', DeprecationWarning)\n",
      "/Users/jackyip/anaconda/lib/python2.7/site-packages/xgboost-0.6-py2.7.egg/xgboost/sklearn.py:163: DeprecationWarning: The nthread parameter is deprecated as of version .6.Please use n_jobs instead.nthread is deprecated.\n",
      "  'nthread is deprecated.', DeprecationWarning)\n",
      "/Users/jackyip/anaconda/lib/python2.7/site-packages/xgboost-0.6-py2.7.egg/xgboost/sklearn.py:163: DeprecationWarning: The nthread parameter is deprecated as of version .6.Please use n_jobs instead.nthread is deprecated.\n",
      "  'nthread is deprecated.', DeprecationWarning)\n",
      "/Users/jackyip/anaconda/lib/python2.7/site-packages/xgboost-0.6-py2.7.egg/xgboost/sklearn.py:163: DeprecationWarning: The nthread parameter is deprecated as of version .6.Please use n_jobs instead.nthread is deprecated.\n",
      "  'nthread is deprecated.', DeprecationWarning)\n",
      "/Users/jackyip/anaconda/lib/python2.7/site-packages/xgboost-0.6-py2.7.egg/xgboost/sklearn.py:163: DeprecationWarning: The nthread parameter is deprecated as of version .6.Please use n_jobs instead.nthread is deprecated.\n",
      "  'nthread is deprecated.', DeprecationWarning)\n",
      "/Users/jackyip/anaconda/lib/python2.7/site-packages/xgboost-0.6-py2.7.egg/xgboost/sklearn.py:163: DeprecationWarning: The nthread parameter is deprecated as of version .6.Please use n_jobs instead.nthread is deprecated.\n",
      "  'nthread is deprecated.', DeprecationWarning)\n",
      "/Users/jackyip/anaconda/lib/python2.7/site-packages/xgboost-0.6-py2.7.egg/xgboost/sklearn.py:163: DeprecationWarning: The nthread parameter is deprecated as of version .6.Please use n_jobs instead.nthread is deprecated.\n",
      "  'nthread is deprecated.', DeprecationWarning)\n",
      "/Users/jackyip/anaconda/lib/python2.7/site-packages/xgboost-0.6-py2.7.egg/xgboost/sklearn.py:163: DeprecationWarning: The nthread parameter is deprecated as of version .6.Please use n_jobs instead.nthread is deprecated.\n",
      "  'nthread is deprecated.', DeprecationWarning)\n",
      "/Users/jackyip/anaconda/lib/python2.7/site-packages/xgboost-0.6-py2.7.egg/xgboost/sklearn.py:163: DeprecationWarning: The nthread parameter is deprecated as of version .6.Please use n_jobs instead.nthread is deprecated.\n",
      "  'nthread is deprecated.', DeprecationWarning)\n",
      "/Users/jackyip/anaconda/lib/python2.7/site-packages/xgboost-0.6-py2.7.egg/xgboost/sklearn.py:163: DeprecationWarning: The nthread parameter is deprecated as of version .6.Please use n_jobs instead.nthread is deprecated.\n",
      "  'nthread is deprecated.', DeprecationWarning)\n",
      "/Users/jackyip/anaconda/lib/python2.7/site-packages/xgboost-0.6-py2.7.egg/xgboost/sklearn.py:163: DeprecationWarning: The nthread parameter is deprecated as of version .6.Please use n_jobs instead.nthread is deprecated.\n",
      "  'nthread is deprecated.', DeprecationWarning)\n",
      "/Users/jackyip/anaconda/lib/python2.7/site-packages/xgboost-0.6-py2.7.egg/xgboost/sklearn.py:163: DeprecationWarning: The nthread parameter is deprecated as of version .6.Please use n_jobs instead.nthread is deprecated.\n",
      "  'nthread is deprecated.', DeprecationWarning)\n",
      "/Users/jackyip/anaconda/lib/python2.7/site-packages/xgboost-0.6-py2.7.egg/xgboost/sklearn.py:163: DeprecationWarning: The nthread parameter is deprecated as of version .6.Please use n_jobs instead.nthread is deprecated.\n",
      "  'nthread is deprecated.', DeprecationWarning)\n",
      "/Users/jackyip/anaconda/lib/python2.7/site-packages/xgboost-0.6-py2.7.egg/xgboost/sklearn.py:163: DeprecationWarning: The nthread parameter is deprecated as of version .6.Please use n_jobs instead.nthread is deprecated.\n",
      "  'nthread is deprecated.', DeprecationWarning)\n",
      "/Users/jackyip/anaconda/lib/python2.7/site-packages/xgboost-0.6-py2.7.egg/xgboost/sklearn.py:163: DeprecationWarning: The nthread parameter is deprecated as of version .6.Please use n_jobs instead.nthread is deprecated.\n",
      "  'nthread is deprecated.', DeprecationWarning)\n",
      "/Users/jackyip/anaconda/lib/python2.7/site-packages/xgboost-0.6-py2.7.egg/xgboost/sklearn.py:163: DeprecationWarning: The nthread parameter is deprecated as of version .6.Please use n_jobs instead.nthread is deprecated.\n",
      "  'nthread is deprecated.', DeprecationWarning)\n",
      "/Users/jackyip/anaconda/lib/python2.7/site-packages/xgboost-0.6-py2.7.egg/xgboost/sklearn.py:163: DeprecationWarning: The nthread parameter is deprecated as of version .6.Please use n_jobs instead.nthread is deprecated.\n",
      "  'nthread is deprecated.', DeprecationWarning)\n",
      "/Users/jackyip/anaconda/lib/python2.7/site-packages/xgboost-0.6-py2.7.egg/xgboost/sklearn.py:163: DeprecationWarning: The nthread parameter is deprecated as of version .6.Please use n_jobs instead.nthread is deprecated.\n",
      "  'nthread is deprecated.', DeprecationWarning)\n",
      "/Users/jackyip/anaconda/lib/python2.7/site-packages/xgboost-0.6-py2.7.egg/xgboost/sklearn.py:163: DeprecationWarning: The nthread parameter is deprecated as of version .6.Please use n_jobs instead.nthread is deprecated.\n",
      "  'nthread is deprecated.', DeprecationWarning)\n",
      "/Users/jackyip/anaconda/lib/python2.7/site-packages/xgboost-0.6-py2.7.egg/xgboost/sklearn.py:163: DeprecationWarning: The nthread parameter is deprecated as of version .6.Please use n_jobs instead.nthread is deprecated.\n",
      "  'nthread is deprecated.', DeprecationWarning)\n",
      "/Users/jackyip/anaconda/lib/python2.7/site-packages/xgboost-0.6-py2.7.egg/xgboost/sklearn.py:163: DeprecationWarning: The nthread parameter is deprecated as of version .6.Please use n_jobs instead.nthread is deprecated.\n",
      "  'nthread is deprecated.', DeprecationWarning)\n",
      "/Users/jackyip/anaconda/lib/python2.7/site-packages/xgboost-0.6-py2.7.egg/xgboost/sklearn.py:163: DeprecationWarning: The nthread parameter is deprecated as of version .6.Please use n_jobs instead.nthread is deprecated.\n",
      "  'nthread is deprecated.', DeprecationWarning)\n",
      "/Users/jackyip/anaconda/lib/python2.7/site-packages/xgboost-0.6-py2.7.egg/xgboost/sklearn.py:163: DeprecationWarning: The nthread parameter is deprecated as of version .6.Please use n_jobs instead.nthread is deprecated.\n",
      "  'nthread is deprecated.', DeprecationWarning)\n",
      "/Users/jackyip/anaconda/lib/python2.7/site-packages/xgboost-0.6-py2.7.egg/xgboost/sklearn.py:163: DeprecationWarning: The nthread parameter is deprecated as of version .6.Please use n_jobs instead.nthread is deprecated.\n",
      "  'nthread is deprecated.', DeprecationWarning)\n",
      "/Users/jackyip/anaconda/lib/python2.7/site-packages/xgboost-0.6-py2.7.egg/xgboost/sklearn.py:163: DeprecationWarning: The nthread parameter is deprecated as of version .6.Please use n_jobs instead.nthread is deprecated.\n",
      "  'nthread is deprecated.', DeprecationWarning)\n",
      "/Users/jackyip/anaconda/lib/python2.7/site-packages/xgboost-0.6-py2.7.egg/xgboost/sklearn.py:163: DeprecationWarning: The nthread parameter is deprecated as of version .6.Please use n_jobs instead.nthread is deprecated.\n",
      "  'nthread is deprecated.', DeprecationWarning)\n",
      "/Users/jackyip/anaconda/lib/python2.7/site-packages/xgboost-0.6-py2.7.egg/xgboost/sklearn.py:163: DeprecationWarning: The nthread parameter is deprecated as of version .6.Please use n_jobs instead.nthread is deprecated.\n",
      "  'nthread is deprecated.', DeprecationWarning)\n",
      "/Users/jackyip/anaconda/lib/python2.7/site-packages/xgboost-0.6-py2.7.egg/xgboost/sklearn.py:163: DeprecationWarning: The nthread parameter is deprecated as of version .6.Please use n_jobs instead.nthread is deprecated.\n",
      "  'nthread is deprecated.', DeprecationWarning)\n",
      "/Users/jackyip/anaconda/lib/python2.7/site-packages/xgboost-0.6-py2.7.egg/xgboost/sklearn.py:163: DeprecationWarning: The nthread parameter is deprecated as of version .6.Please use n_jobs instead.nthread is deprecated.\n",
      "  'nthread is deprecated.', DeprecationWarning)\n",
      "/Users/jackyip/anaconda/lib/python2.7/site-packages/xgboost-0.6-py2.7.egg/xgboost/sklearn.py:163: DeprecationWarning: The nthread parameter is deprecated as of version .6.Please use n_jobs instead.nthread is deprecated.\n",
      "  'nthread is deprecated.', DeprecationWarning)\n",
      "/Users/jackyip/anaconda/lib/python2.7/site-packages/xgboost-0.6-py2.7.egg/xgboost/sklearn.py:163: DeprecationWarning: The nthread parameter is deprecated as of version .6.Please use n_jobs instead.nthread is deprecated.\n",
      "  'nthread is deprecated.', DeprecationWarning)\n",
      "/Users/jackyip/anaconda/lib/python2.7/site-packages/xgboost-0.6-py2.7.egg/xgboost/sklearn.py:163: DeprecationWarning: The nthread parameter is deprecated as of version .6.Please use n_jobs instead.nthread is deprecated.\n",
      "  'nthread is deprecated.', DeprecationWarning)\n",
      "/Users/jackyip/anaconda/lib/python2.7/site-packages/xgboost-0.6-py2.7.egg/xgboost/sklearn.py:163: DeprecationWarning: The nthread parameter is deprecated as of version .6.Please use n_jobs instead.nthread is deprecated.\n",
      "  'nthread is deprecated.', DeprecationWarning)\n",
      "/Users/jackyip/anaconda/lib/python2.7/site-packages/xgboost-0.6-py2.7.egg/xgboost/sklearn.py:163: DeprecationWarning: The nthread parameter is deprecated as of version .6.Please use n_jobs instead.nthread is deprecated.\n",
      "  'nthread is deprecated.', DeprecationWarning)\n",
      "/Users/jackyip/anaconda/lib/python2.7/site-packages/xgboost-0.6-py2.7.egg/xgboost/sklearn.py:163: DeprecationWarning: The nthread parameter is deprecated as of version .6.Please use n_jobs instead.nthread is deprecated.\n",
      "  'nthread is deprecated.', DeprecationWarning)\n",
      "/Users/jackyip/anaconda/lib/python2.7/site-packages/xgboost-0.6-py2.7.egg/xgboost/sklearn.py:163: DeprecationWarning: The nthread parameter is deprecated as of version .6.Please use n_jobs instead.nthread is deprecated.\n",
      "  'nthread is deprecated.', DeprecationWarning)\n",
      "[Parallel(n_jobs=1)]: Done  81 out of  81 | elapsed: 46.1min finished\n",
      "/Users/jackyip/anaconda/lib/python2.7/site-packages/xgboost-0.6-py2.7.egg/xgboost/sklearn.py:163: DeprecationWarning: The nthread parameter is deprecated as of version .6.Please use n_jobs instead.nthread is deprecated.\n",
      "  'nthread is deprecated.', DeprecationWarning)\n"
     ]
    },
    {
     "data": {
      "text/plain": [
       "GridSearchCV(cv=None, error_score='raise',\n",
       "       estimator=XGBRegressor(base_score=0.5, booster='gbtree', colsample_bylevel=1,\n",
       "       colsample_bytree=1, gamma=0, learning_rate=0.1, max_delta_step=0,\n",
       "       max_depth=3, min_child_weight=1, missing=None, n_estimators=100,\n",
       "       n_jobs=1, nthread=1, objective='reg:linear', random_state=0,\n",
       "       reg_alpha=0, reg_lambda=1, scale_pos_weight=1, seed=0, silent=True,\n",
       "       subsample=1),\n",
       "       fit_params={}, iid=True, n_jobs=1,\n",
       "       param_grid={'n_estimators': [80, 100, 120], 'learning_rate': [0.08, 0.1, 0.12], 'max_depth': [6, 8, 10]},\n",
       "       pre_dispatch='2*n_jobs', refit=True, scoring=None, verbose=1)"
      ]
     },
     "execution_count": 30,
     "metadata": {},
     "output_type": "execute_result"
    }
   ],
   "source": [
    "# trial 4\n",
    "xgb_model = xgb.XGBRegressor()\n",
    "clf = GridSearchCV(xgb_model,\n",
    "                   {'learning_rate': [0.08, 0.1, 0.12],\n",
    "                    'max_depth': [6, 8, 10],\n",
    "                    'n_estimators': [80, 100, 120]}, verbose=1)\n",
    "clf.fit(X_train, Y_train)"
   ]
  },
  {
   "cell_type": "code",
   "execution_count": 31,
   "metadata": {
    "collapsed": false
   },
   "outputs": [
    {
     "name": "stdout",
     "output_type": "stream",
     "text": [
      "0.583038386111\n",
      "{'n_estimators': 120, 'learning_rate': 0.08, 'max_depth': 6}\n"
     ]
    }
   ],
   "source": [
    "# trial 4\n",
    "print(clf.best_score_)\n",
    "print(clf.best_params_)\n",
    "# 0.583038386111\n",
    "# {'n_estimators': 120, 'learning_rate': 0.08, 'max_depth': 6}"
   ]
  },
  {
   "cell_type": "code",
   "execution_count": 41,
   "metadata": {
    "collapsed": false
   },
   "outputs": [
    {
     "name": "stdout",
     "output_type": "stream",
     "text": [
      "Fitting 3 folds for each of 3 candidates, totalling 9 fits\n"
     ]
    },
    {
     "name": "stderr",
     "output_type": "stream",
     "text": [
      "/Users/jackyip/anaconda/lib/python2.7/site-packages/xgboost-0.6-py2.7.egg/xgboost/sklearn.py:163: DeprecationWarning: The nthread parameter is deprecated as of version .6.Please use n_jobs instead.nthread is deprecated.\n",
      "  'nthread is deprecated.', DeprecationWarning)\n",
      "/Users/jackyip/anaconda/lib/python2.7/site-packages/xgboost-0.6-py2.7.egg/xgboost/sklearn.py:163: DeprecationWarning: The nthread parameter is deprecated as of version .6.Please use n_jobs instead.nthread is deprecated.\n",
      "  'nthread is deprecated.', DeprecationWarning)\n",
      "/Users/jackyip/anaconda/lib/python2.7/site-packages/xgboost-0.6-py2.7.egg/xgboost/sklearn.py:163: DeprecationWarning: The nthread parameter is deprecated as of version .6.Please use n_jobs instead.nthread is deprecated.\n",
      "  'nthread is deprecated.', DeprecationWarning)\n",
      "/Users/jackyip/anaconda/lib/python2.7/site-packages/xgboost-0.6-py2.7.egg/xgboost/sklearn.py:163: DeprecationWarning: The nthread parameter is deprecated as of version .6.Please use n_jobs instead.nthread is deprecated.\n",
      "  'nthread is deprecated.', DeprecationWarning)\n",
      "/Users/jackyip/anaconda/lib/python2.7/site-packages/xgboost-0.6-py2.7.egg/xgboost/sklearn.py:163: DeprecationWarning: The nthread parameter is deprecated as of version .6.Please use n_jobs instead.nthread is deprecated.\n",
      "  'nthread is deprecated.', DeprecationWarning)\n",
      "/Users/jackyip/anaconda/lib/python2.7/site-packages/xgboost-0.6-py2.7.egg/xgboost/sklearn.py:163: DeprecationWarning: The nthread parameter is deprecated as of version .6.Please use n_jobs instead.nthread is deprecated.\n",
      "  'nthread is deprecated.', DeprecationWarning)\n",
      "/Users/jackyip/anaconda/lib/python2.7/site-packages/xgboost-0.6-py2.7.egg/xgboost/sklearn.py:163: DeprecationWarning: The nthread parameter is deprecated as of version .6.Please use n_jobs instead.nthread is deprecated.\n",
      "  'nthread is deprecated.', DeprecationWarning)\n",
      "/Users/jackyip/anaconda/lib/python2.7/site-packages/xgboost-0.6-py2.7.egg/xgboost/sklearn.py:163: DeprecationWarning: The nthread parameter is deprecated as of version .6.Please use n_jobs instead.nthread is deprecated.\n",
      "  'nthread is deprecated.', DeprecationWarning)\n",
      "/Users/jackyip/anaconda/lib/python2.7/site-packages/xgboost-0.6-py2.7.egg/xgboost/sklearn.py:163: DeprecationWarning: The nthread parameter is deprecated as of version .6.Please use n_jobs instead.nthread is deprecated.\n",
      "  'nthread is deprecated.', DeprecationWarning)\n",
      "/Users/jackyip/anaconda/lib/python2.7/site-packages/xgboost-0.6-py2.7.egg/xgboost/sklearn.py:163: DeprecationWarning: The nthread parameter is deprecated as of version .6.Please use n_jobs instead.nthread is deprecated.\n",
      "  'nthread is deprecated.', DeprecationWarning)\n",
      "[Parallel(n_jobs=1)]: Done   9 out of   9 | elapsed:  2.7min finished\n",
      "/Users/jackyip/anaconda/lib/python2.7/site-packages/xgboost-0.6-py2.7.egg/xgboost/sklearn.py:163: DeprecationWarning: The nthread parameter is deprecated as of version .6.Please use n_jobs instead.nthread is deprecated.\n",
      "  'nthread is deprecated.', DeprecationWarning)\n"
     ]
    },
    {
     "data": {
      "text/plain": [
       "GridSearchCV(cv=None, error_score='raise',\n",
       "       estimator=XGBRegressor(base_score=0.5, booster='gbtree', colsample_bylevel=1,\n",
       "       colsample_bytree=1, gamma=0, learning_rate=0.1, max_delta_step=0,\n",
       "       max_depth=3, min_child_weight=1, missing=None, n_estimators=100,\n",
       "       n_jobs=1, nthread=1, objective='reg:linear', random_state=0,\n",
       "       reg_alpha=0, reg_lambda=1, scale_pos_weight=1, seed=0, silent=True,\n",
       "       subsample=1),\n",
       "       fit_params={}, iid=True, n_jobs=1,\n",
       "       param_grid={'n_estimators': [120], 'learning_rate': [0.08], 'colsample_bytree': [0.3, 0.5, 0.7], 'max_depth': [6]},\n",
       "       pre_dispatch='2*n_jobs', refit=True, scoring=None, verbose=1)"
      ]
     },
     "execution_count": 41,
     "metadata": {},
     "output_type": "execute_result"
    }
   ],
   "source": [
    "# trial 5; adding colsample_bytree\n",
    "xgb_model = xgb.XGBRegressor()\n",
    "clf = GridSearchCV(xgb_model,\n",
    "                   {'learning_rate': [0.08],\n",
    "                    'max_depth': [6],\n",
    "                    'n_estimators': [120],\n",
    "                    'colsample_bytree': [0.3, 0.5, 0.7]},\n",
    "                    verbose=1)\n",
    "clf.fit(X_train, Y_train)"
   ]
  },
  {
   "cell_type": "code",
   "execution_count": 42,
   "metadata": {
    "collapsed": false
   },
   "outputs": [
    {
     "name": "stdout",
     "output_type": "stream",
     "text": [
      "0.595893246414\n",
      "{'n_estimators': 120, 'learning_rate': 0.08, 'colsample_bytree': 0.3, 'max_depth': 6}\n"
     ]
    }
   ],
   "source": [
    "# trial 5\n",
    "print(clf.best_score_)\n",
    "print(clf.best_params_)\n",
    "# 0.595893246414\n",
    "# {'n_estimators': 120, 'learning_rate': 0.08, 'colsample_bytree': 0.3, 'max_depth': 6}"
   ]
  },
  {
   "cell_type": "code",
   "execution_count": 43,
   "metadata": {
    "collapsed": false
   },
   "outputs": [
    {
     "name": "stdout",
     "output_type": "stream",
     "text": [
      "Fitting 3 folds for each of 3 candidates, totalling 9 fits\n"
     ]
    },
    {
     "name": "stderr",
     "output_type": "stream",
     "text": [
      "/Users/jackyip/anaconda/lib/python2.7/site-packages/xgboost-0.6-py2.7.egg/xgboost/sklearn.py:163: DeprecationWarning: The nthread parameter is deprecated as of version .6.Please use n_jobs instead.nthread is deprecated.\n",
      "  'nthread is deprecated.', DeprecationWarning)\n",
      "/Users/jackyip/anaconda/lib/python2.7/site-packages/xgboost-0.6-py2.7.egg/xgboost/sklearn.py:163: DeprecationWarning: The nthread parameter is deprecated as of version .6.Please use n_jobs instead.nthread is deprecated.\n",
      "  'nthread is deprecated.', DeprecationWarning)\n",
      "/Users/jackyip/anaconda/lib/python2.7/site-packages/xgboost-0.6-py2.7.egg/xgboost/sklearn.py:163: DeprecationWarning: The nthread parameter is deprecated as of version .6.Please use n_jobs instead.nthread is deprecated.\n",
      "  'nthread is deprecated.', DeprecationWarning)\n",
      "/Users/jackyip/anaconda/lib/python2.7/site-packages/xgboost-0.6-py2.7.egg/xgboost/sklearn.py:163: DeprecationWarning: The nthread parameter is deprecated as of version .6.Please use n_jobs instead.nthread is deprecated.\n",
      "  'nthread is deprecated.', DeprecationWarning)\n",
      "/Users/jackyip/anaconda/lib/python2.7/site-packages/xgboost-0.6-py2.7.egg/xgboost/sklearn.py:163: DeprecationWarning: The nthread parameter is deprecated as of version .6.Please use n_jobs instead.nthread is deprecated.\n",
      "  'nthread is deprecated.', DeprecationWarning)\n",
      "/Users/jackyip/anaconda/lib/python2.7/site-packages/xgboost-0.6-py2.7.egg/xgboost/sklearn.py:163: DeprecationWarning: The nthread parameter is deprecated as of version .6.Please use n_jobs instead.nthread is deprecated.\n",
      "  'nthread is deprecated.', DeprecationWarning)\n",
      "/Users/jackyip/anaconda/lib/python2.7/site-packages/xgboost-0.6-py2.7.egg/xgboost/sklearn.py:163: DeprecationWarning: The nthread parameter is deprecated as of version .6.Please use n_jobs instead.nthread is deprecated.\n",
      "  'nthread is deprecated.', DeprecationWarning)\n",
      "/Users/jackyip/anaconda/lib/python2.7/site-packages/xgboost-0.6-py2.7.egg/xgboost/sklearn.py:163: DeprecationWarning: The nthread parameter is deprecated as of version .6.Please use n_jobs instead.nthread is deprecated.\n",
      "  'nthread is deprecated.', DeprecationWarning)\n",
      "/Users/jackyip/anaconda/lib/python2.7/site-packages/xgboost-0.6-py2.7.egg/xgboost/sklearn.py:163: DeprecationWarning: The nthread parameter is deprecated as of version .6.Please use n_jobs instead.nthread is deprecated.\n",
      "  'nthread is deprecated.', DeprecationWarning)\n",
      "/Users/jackyip/anaconda/lib/python2.7/site-packages/xgboost-0.6-py2.7.egg/xgboost/sklearn.py:163: DeprecationWarning: The nthread parameter is deprecated as of version .6.Please use n_jobs instead.nthread is deprecated.\n",
      "  'nthread is deprecated.', DeprecationWarning)\n",
      "[Parallel(n_jobs=1)]: Done   9 out of   9 | elapsed:  1.4min finished\n",
      "/Users/jackyip/anaconda/lib/python2.7/site-packages/xgboost-0.6-py2.7.egg/xgboost/sklearn.py:163: DeprecationWarning: The nthread parameter is deprecated as of version .6.Please use n_jobs instead.nthread is deprecated.\n",
      "  'nthread is deprecated.', DeprecationWarning)\n"
     ]
    },
    {
     "data": {
      "text/plain": [
       "GridSearchCV(cv=None, error_score='raise',\n",
       "       estimator=XGBRegressor(base_score=0.5, booster='gbtree', colsample_bylevel=1,\n",
       "       colsample_bytree=1, gamma=0, learning_rate=0.1, max_delta_step=0,\n",
       "       max_depth=3, min_child_weight=1, missing=None, n_estimators=100,\n",
       "       n_jobs=1, nthread=1, objective='reg:linear', random_state=0,\n",
       "       reg_alpha=0, reg_lambda=1, scale_pos_weight=1, seed=0, silent=True,\n",
       "       subsample=1),\n",
       "       fit_params={}, iid=True, n_jobs=1,\n",
       "       param_grid={'n_estimators': [120], 'learning_rate': [0.08], 'colsample_bytree': [0.1, 0.2, 0.3], 'max_depth': [6]},\n",
       "       pre_dispatch='2*n_jobs', refit=True, scoring=None, verbose=1)"
      ]
     },
     "execution_count": 43,
     "metadata": {},
     "output_type": "execute_result"
    }
   ],
   "source": [
    "# trial 5; tweak colsample_bytree even more\n",
    "xgb_model = xgb.XGBRegressor()\n",
    "clf = GridSearchCV(xgb_model,\n",
    "                   {'learning_rate': [0.08],\n",
    "                    'max_depth': [6],\n",
    "                    'n_estimators': [120],\n",
    "                    'colsample_bytree': [0.1, 0.2, 0.3]},\n",
    "                    verbose=1)\n",
    "clf.fit(X_train, Y_train)"
   ]
  },
  {
   "cell_type": "code",
   "execution_count": 44,
   "metadata": {
    "collapsed": false
   },
   "outputs": [
    {
     "name": "stdout",
     "output_type": "stream",
     "text": [
      "0.595893246414\n",
      "{'n_estimators': 120, 'learning_rate': 0.08, 'colsample_bytree': 0.3, 'max_depth': 6}\n"
     ]
    }
   ],
   "source": [
    "# trial 5\n",
    "print(clf.best_score_)\n",
    "print(clf.best_params_)\n",
    "#0.595893246414\n",
    "#{'n_estimators': 120, 'learning_rate': 0.08, 'colsample_bytree': 0.3, 'max_depth': 6}"
   ]
  },
  {
   "cell_type": "code",
   "execution_count": 45,
   "metadata": {
    "collapsed": false
   },
   "outputs": [
    {
     "name": "stdout",
     "output_type": "stream",
     "text": [
      "Fitting 3 folds for each of 3 candidates, totalling 9 fits\n"
     ]
    },
    {
     "name": "stderr",
     "output_type": "stream",
     "text": [
      "/Users/jackyip/anaconda/lib/python2.7/site-packages/xgboost-0.6-py2.7.egg/xgboost/sklearn.py:163: DeprecationWarning: The nthread parameter is deprecated as of version .6.Please use n_jobs instead.nthread is deprecated.\n",
      "  'nthread is deprecated.', DeprecationWarning)\n",
      "/Users/jackyip/anaconda/lib/python2.7/site-packages/xgboost-0.6-py2.7.egg/xgboost/sklearn.py:163: DeprecationWarning: The nthread parameter is deprecated as of version .6.Please use n_jobs instead.nthread is deprecated.\n",
      "  'nthread is deprecated.', DeprecationWarning)\n",
      "/Users/jackyip/anaconda/lib/python2.7/site-packages/xgboost-0.6-py2.7.egg/xgboost/sklearn.py:163: DeprecationWarning: The nthread parameter is deprecated as of version .6.Please use n_jobs instead.nthread is deprecated.\n",
      "  'nthread is deprecated.', DeprecationWarning)\n",
      "/Users/jackyip/anaconda/lib/python2.7/site-packages/xgboost-0.6-py2.7.egg/xgboost/sklearn.py:163: DeprecationWarning: The nthread parameter is deprecated as of version .6.Please use n_jobs instead.nthread is deprecated.\n",
      "  'nthread is deprecated.', DeprecationWarning)\n",
      "/Users/jackyip/anaconda/lib/python2.7/site-packages/xgboost-0.6-py2.7.egg/xgboost/sklearn.py:163: DeprecationWarning: The nthread parameter is deprecated as of version .6.Please use n_jobs instead.nthread is deprecated.\n",
      "  'nthread is deprecated.', DeprecationWarning)\n",
      "/Users/jackyip/anaconda/lib/python2.7/site-packages/xgboost-0.6-py2.7.egg/xgboost/sklearn.py:163: DeprecationWarning: The nthread parameter is deprecated as of version .6.Please use n_jobs instead.nthread is deprecated.\n",
      "  'nthread is deprecated.', DeprecationWarning)\n",
      "/Users/jackyip/anaconda/lib/python2.7/site-packages/xgboost-0.6-py2.7.egg/xgboost/sklearn.py:163: DeprecationWarning: The nthread parameter is deprecated as of version .6.Please use n_jobs instead.nthread is deprecated.\n",
      "  'nthread is deprecated.', DeprecationWarning)\n",
      "/Users/jackyip/anaconda/lib/python2.7/site-packages/xgboost-0.6-py2.7.egg/xgboost/sklearn.py:163: DeprecationWarning: The nthread parameter is deprecated as of version .6.Please use n_jobs instead.nthread is deprecated.\n",
      "  'nthread is deprecated.', DeprecationWarning)\n",
      "/Users/jackyip/anaconda/lib/python2.7/site-packages/xgboost-0.6-py2.7.egg/xgboost/sklearn.py:163: DeprecationWarning: The nthread parameter is deprecated as of version .6.Please use n_jobs instead.nthread is deprecated.\n",
      "  'nthread is deprecated.', DeprecationWarning)\n",
      "/Users/jackyip/anaconda/lib/python2.7/site-packages/xgboost-0.6-py2.7.egg/xgboost/sklearn.py:163: DeprecationWarning: The nthread parameter is deprecated as of version .6.Please use n_jobs instead.nthread is deprecated.\n",
      "  'nthread is deprecated.', DeprecationWarning)\n",
      "[Parallel(n_jobs=1)]: Done   9 out of   9 | elapsed:  1.7min finished\n",
      "/Users/jackyip/anaconda/lib/python2.7/site-packages/xgboost-0.6-py2.7.egg/xgboost/sklearn.py:163: DeprecationWarning: The nthread parameter is deprecated as of version .6.Please use n_jobs instead.nthread is deprecated.\n",
      "  'nthread is deprecated.', DeprecationWarning)\n"
     ]
    },
    {
     "data": {
      "text/plain": [
       "GridSearchCV(cv=None, error_score='raise',\n",
       "       estimator=XGBRegressor(base_score=0.5, booster='gbtree', colsample_bylevel=1,\n",
       "       colsample_bytree=1, gamma=0, learning_rate=0.1, max_delta_step=0,\n",
       "       max_depth=3, min_child_weight=1, missing=None, n_estimators=100,\n",
       "       n_jobs=1, nthread=1, objective='reg:linear', random_state=0,\n",
       "       reg_alpha=0, reg_lambda=1, scale_pos_weight=1, seed=0, silent=True,\n",
       "       subsample=1),\n",
       "       fit_params={}, iid=True, n_jobs=1,\n",
       "       param_grid={'n_estimators': [120], 'learning_rate': [0.08], 'colsample_bytree': [0.25, 0.3, 0.35], 'max_depth': [6]},\n",
       "       pre_dispatch='2*n_jobs', refit=True, scoring=None, verbose=1)"
      ]
     },
     "execution_count": 45,
     "metadata": {},
     "output_type": "execute_result"
    }
   ],
   "source": [
    "# trial 6; tweak colsample_bytree even more\n",
    "xgb_model = xgb.XGBRegressor()\n",
    "clf = GridSearchCV(xgb_model,\n",
    "                   {'learning_rate': [0.08],\n",
    "                    'max_depth': [6],\n",
    "                    'n_estimators': [120],\n",
    "                    'colsample_bytree': [0.25, 0.3, 0.35]},\n",
    "                    verbose=1)\n",
    "clf.fit(X_train, Y_train)"
   ]
  },
  {
   "cell_type": "code",
   "execution_count": 46,
   "metadata": {
    "collapsed": false
   },
   "outputs": [
    {
     "name": "stdout",
     "output_type": "stream",
     "text": [
      "0.599447507491\n",
      "{'n_estimators': 120, 'learning_rate': 0.08, 'colsample_bytree': 0.35, 'max_depth': 6}\n"
     ]
    }
   ],
   "source": [
    "# trial 6\n",
    "print(clf.best_score_)\n",
    "print(clf.best_params_)\n",
    "#0.599447507491\n",
    "#{'n_estimators': 120, 'learning_rate': 0.08, 'colsample_bytree': 0.35, 'max_depth': 6}"
   ]
  },
  {
   "cell_type": "code",
   "execution_count": null,
   "metadata": {
    "collapsed": true
   },
   "outputs": [],
   "source": []
  },
  {
   "cell_type": "code",
   "execution_count": null,
   "metadata": {
    "collapsed": true
   },
   "outputs": [],
   "source": []
  },
  {
   "cell_type": "code",
   "execution_count": null,
   "metadata": {
    "collapsed": true
   },
   "outputs": [],
   "source": []
  },
  {
   "cell_type": "code",
   "execution_count": null,
   "metadata": {
    "collapsed": true
   },
   "outputs": [],
   "source": []
  },
  {
   "cell_type": "code",
   "execution_count": null,
   "metadata": {
    "collapsed": true
   },
   "outputs": [],
   "source": []
  },
  {
   "cell_type": "code",
   "execution_count": null,
   "metadata": {
    "collapsed": true
   },
   "outputs": [],
   "source": []
  },
  {
   "cell_type": "code",
   "execution_count": null,
   "metadata": {
    "collapsed": true
   },
   "outputs": [],
   "source": []
  },
  {
   "cell_type": "code",
   "execution_count": 79,
   "metadata": {
    "collapsed": false
   },
   "outputs": [],
   "source": [
    "X_train = train.drop('price_doc',axis=1)\n",
    "Y_train = train['price_doc']\n",
    "T_train_xgb = xgb.DMatrix(X_train, Y_train)\n",
    "\n",
    "# You can experiment with many other options here, using the same .fit() and .predict()\n",
    "# methods; see http://scikit-learn.org\n",
    "# This example uses the current build of XGBoost, from https://github.com/dmlc/xgboost\n",
    "\n",
    "params = {\"booster\":\"gbtree\",\n",
    "          \"eta\": 0.08,\n",
    "          \"max_depth\": 6,\n",
    "          \"subsample\": 1,\n",
    "          \"colsample_bytree\": 0.35,\n",
    "          \"objective\": 'reg:linear',\n",
    "          \"eval_metric\": 'rmse',\n",
    "          \"silent\": 0}\n",
    "\n",
    "gbm = xgb.train(dtrain = T_train_xgb, params = params, num_boost_round=1000)"
   ]
  },
  {
   "cell_type": "code",
   "execution_count": 102,
   "metadata": {
    "collapsed": false
   },
   "outputs": [
    {
     "name": "stdout",
     "output_type": "stream",
     "text": [
      "[0]\ttrain-rmse:8.06799e+06+36328.7\ttest-rmse:8.07643e+06+81239.6\n",
      "[50]\ttrain-rmse:2.40028e+06+28118.9\ttest-rmse:2.94693e+06+87133.2\n",
      "[100]\ttrain-rmse:2.02115e+06+22900.9\ttest-rmse:2.80362e+06+98313.2\n",
      "[150]\ttrain-rmse:1.85767e+06+18854\ttest-rmse:2.76084e+06+99364.2\n",
      "[200]\ttrain-rmse:1.75317e+06+25906.9\ttest-rmse:2.74531e+06+100545\n",
      "[250]\ttrain-rmse:1.66733e+06+19260.9\ttest-rmse:2.73386e+06+102116\n",
      "[300]\ttrain-rmse:1.5935e+06+24004.1\ttest-rmse:2.72935e+06+102278\n",
      "[350]\ttrain-rmse:1.52753e+06+20084.1\ttest-rmse:2.72641e+06+102374\n",
      "[400]\ttrain-rmse:1.46164e+06+19179.9\ttest-rmse:2.72453e+06+104013\n",
      "[450]\ttrain-rmse:1.40064e+06+15803.6\ttest-rmse:2.72294e+06+105687\n",
      "[500]\ttrain-rmse:1.3417e+06+20496.6\ttest-rmse:2.72208e+06+107013\n",
      "[550]\ttrain-rmse:1.28538e+06+21499.7\ttest-rmse:2.72091e+06+107081\n",
      "[600]\ttrain-rmse:1.23503e+06+26356.4\ttest-rmse:2.72059e+06+107053\n",
      "[650]\ttrain-rmse:1.18704e+06+25696.8\ttest-rmse:2.72043e+06+108488\n"
     ]
    }
   ],
   "source": [
    "grid_search = xgb.cv(params, T_train_xgb, num_boost_round=5000, nfold=3,\n",
    "        verbose_eval=50, early_stopping_rounds = 50)"
   ]
  },
  {
   "cell_type": "code",
   "execution_count": 103,
   "metadata": {
    "collapsed": false
   },
   "outputs": [
    {
     "name": "stdout",
     "output_type": "stream",
     "text": [
      "[0]\ttrain-rmse:8.51381e+06+37804.3\ttest-rmse:8.51461e+06+76385.7\n",
      "[50]\ttrain-rmse:5.91574e+06+43334.7\ttest-rmse:5.97742e+06+88146.8\n",
      "[100]\ttrain-rmse:4.43399e+06+34148.8\ttest-rmse:4.56928e+06+110829\n",
      "[150]\ttrain-rmse:3.61102e+06+25795.9\ttest-rmse:3.83368e+06+135132\n",
      "[200]\ttrain-rmse:3.13506e+06+24320.1\ttest-rmse:3.43927e+06+129263\n",
      "[250]\ttrain-rmse:2.84932e+06+32205.4\ttest-rmse:3.22091e+06+120643\n",
      "[300]\ttrain-rmse:2.65819e+06+33370.8\ttest-rmse:3.09102e+06+119201\n",
      "[350]\ttrain-rmse:2.53546e+06+39218.7\ttest-rmse:3.01484e+06+114628\n",
      "[400]\ttrain-rmse:2.43946e+06+31303.2\ttest-rmse:2.96129e+06+120972\n",
      "[450]\ttrain-rmse:2.34781e+06+31530.4\ttest-rmse:2.91291e+06+120790\n",
      "[500]\ttrain-rmse:2.27984e+06+36268.8\ttest-rmse:2.88105e+06+117269\n",
      "[550]\ttrain-rmse:2.22714e+06+36781.9\ttest-rmse:2.8586e+06+118475\n",
      "[600]\ttrain-rmse:2.17612e+06+35320.7\ttest-rmse:2.83666e+06+117313\n",
      "[650]\ttrain-rmse:2.13257e+06+35966.8\ttest-rmse:2.81924e+06+117483\n",
      "[700]\ttrain-rmse:2.09569e+06+31723.4\ttest-rmse:2.80536e+06+120531\n",
      "[750]\ttrain-rmse:2.06255e+06+36019.6\ttest-rmse:2.79418e+06+119210\n",
      "[800]\ttrain-rmse:2.03309e+06+35533.2\ttest-rmse:2.7834e+06+119569\n",
      "[850]\ttrain-rmse:2.00781e+06+36354.9\ttest-rmse:2.77691e+06+119494\n",
      "[900]\ttrain-rmse:1.98097e+06+37015.5\ttest-rmse:2.76837e+06+118581\n",
      "[950]\ttrain-rmse:1.9576e+06+34909.9\ttest-rmse:2.76141e+06+119634\n",
      "[1000]\ttrain-rmse:1.93732e+06+34659.4\ttest-rmse:2.75636e+06+119849\n",
      "[1050]\ttrain-rmse:1.91785e+06+34436.7\ttest-rmse:2.75165e+06+119897\n",
      "[1100]\ttrain-rmse:1.89952e+06+33267.1\ttest-rmse:2.74723e+06+121001\n",
      "[1150]\ttrain-rmse:1.88089e+06+32689.5\ttest-rmse:2.74276e+06+121298\n",
      "[1200]\ttrain-rmse:1.86409e+06+33209.8\ttest-rmse:2.73952e+06+120988\n",
      "[1250]\ttrain-rmse:1.84809e+06+34324.4\ttest-rmse:2.7369e+06+120786\n",
      "[1300]\ttrain-rmse:1.83136e+06+35175.2\ttest-rmse:2.73414e+06+120844\n",
      "[1350]\ttrain-rmse:1.81688e+06+34624\ttest-rmse:2.73197e+06+121227\n",
      "[1400]\ttrain-rmse:1.8024e+06+33835.1\ttest-rmse:2.72947e+06+121815\n",
      "[1450]\ttrain-rmse:1.78815e+06+34574.1\ttest-rmse:2.72698e+06+122225\n",
      "[1500]\ttrain-rmse:1.77653e+06+35850.2\ttest-rmse:2.72522e+06+122455\n",
      "[1550]\ttrain-rmse:1.76382e+06+36236.1\ttest-rmse:2.72363e+06+122778\n",
      "[1600]\ttrain-rmse:1.75172e+06+36741.1\ttest-rmse:2.72215e+06+122885\n",
      "[1650]\ttrain-rmse:1.73994e+06+37225.8\ttest-rmse:2.7208e+06+122891\n",
      "[1700]\ttrain-rmse:1.72754e+06+37761.1\ttest-rmse:2.7196e+06+123006\n",
      "[1750]\ttrain-rmse:1.716e+06+38229.4\ttest-rmse:2.71817e+06+123016\n",
      "[1800]\ttrain-rmse:1.70607e+06+39207.6\ttest-rmse:2.71694e+06+122945\n",
      "[1850]\ttrain-rmse:1.69652e+06+39514.4\ttest-rmse:2.71577e+06+123160\n",
      "[1900]\ttrain-rmse:1.68709e+06+39687\ttest-rmse:2.71495e+06+123369\n",
      "[1950]\ttrain-rmse:1.6772e+06+39415.6\ttest-rmse:2.71398e+06+123550\n",
      "[2000]\ttrain-rmse:1.66718e+06+39736.4\ttest-rmse:2.7132e+06+123715\n",
      "[2050]\ttrain-rmse:1.65802e+06+39915.1\ttest-rmse:2.71255e+06+123741\n",
      "[2100]\ttrain-rmse:1.64734e+06+39997.9\ttest-rmse:2.71145e+06+123941\n",
      "[2150]\ttrain-rmse:1.63704e+06+39338.5\ttest-rmse:2.71034e+06+124247\n",
      "[2200]\ttrain-rmse:1.6287e+06+38814.2\ttest-rmse:2.70964e+06+124482\n",
      "[2250]\ttrain-rmse:1.61986e+06+38548.4\ttest-rmse:2.70874e+06+124723\n",
      "[2300]\ttrain-rmse:1.61154e+06+37921.2\ttest-rmse:2.70811e+06+124806\n",
      "[2350]\ttrain-rmse:1.60281e+06+37868.5\ttest-rmse:2.70726e+06+125046\n",
      "[2400]\ttrain-rmse:1.59443e+06+37456.7\ttest-rmse:2.70667e+06+125408\n",
      "[2450]\ttrain-rmse:1.58676e+06+36831.1\ttest-rmse:2.70617e+06+125471\n",
      "[2500]\ttrain-rmse:1.57918e+06+36560.5\ttest-rmse:2.70579e+06+125583\n",
      "[2550]\ttrain-rmse:1.57034e+06+36452\ttest-rmse:2.70502e+06+125755\n",
      "[2600]\ttrain-rmse:1.56102e+06+37277.4\ttest-rmse:2.70463e+06+125737\n",
      "[2650]\ttrain-rmse:1.55255e+06+36555.7\ttest-rmse:2.70401e+06+125683\n",
      "[2700]\ttrain-rmse:1.54484e+06+36084.8\ttest-rmse:2.70375e+06+125717\n",
      "[2750]\ttrain-rmse:1.53784e+06+35676.7\ttest-rmse:2.70347e+06+125597\n",
      "[2800]\ttrain-rmse:1.53043e+06+35854.7\ttest-rmse:2.70341e+06+125629\n",
      "[2850]\ttrain-rmse:1.52235e+06+36140.8\ttest-rmse:2.70285e+06+125510\n",
      "[2900]\ttrain-rmse:1.51367e+06+36119.3\ttest-rmse:2.70218e+06+125374\n",
      "[2950]\ttrain-rmse:1.50588e+06+36121.7\ttest-rmse:2.70175e+06+125151\n",
      "[3000]\ttrain-rmse:1.49842e+06+35983.2\ttest-rmse:2.70151e+06+125310\n",
      "[3050]\ttrain-rmse:1.49041e+06+36687.2\ttest-rmse:2.7013e+06+125383\n",
      "[3100]\ttrain-rmse:1.48306e+06+37719.4\ttest-rmse:2.70099e+06+125369\n",
      "[3150]\ttrain-rmse:1.47594e+06+37917.1\ttest-rmse:2.70068e+06+125206\n",
      "[3200]\ttrain-rmse:1.46861e+06+36839.1\ttest-rmse:2.7005e+06+125157\n",
      "[3250]\ttrain-rmse:1.46197e+06+36217.7\ttest-rmse:2.69997e+06+125185\n",
      "[3300]\ttrain-rmse:1.45451e+06+35135.1\ttest-rmse:2.6996e+06+125430\n",
      "[3350]\ttrain-rmse:1.44689e+06+34955\ttest-rmse:2.69943e+06+125351\n",
      "[3400]\ttrain-rmse:1.43963e+06+34676.7\ttest-rmse:2.69928e+06+125473\n"
     ]
    }
   ],
   "source": [
    "params = {\"booster\":\"gbtree\",\n",
    "          \"eta\": 0.01,\n",
    "          \"max_depth\": 6,\n",
    "          \"subsample\": 1,\n",
    "          \"colsample_bytree\": 0.35,\n",
    "          \"objective\": 'reg:linear',\n",
    "          \"eval_metric\": 'rmse',\n",
    "          \"silent\": 0}\n",
    "\n",
    "grid_search = xgb.cv(params, T_train_xgb, num_boost_round=5000, nfold=3,\n",
    "        verbose_eval=50, early_stopping_rounds = 50)"
   ]
  },
  {
   "cell_type": "code",
   "execution_count": null,
   "metadata": {
    "collapsed": true
   },
   "outputs": [],
   "source": []
  },
  {
   "cell_type": "code",
   "execution_count": 101,
   "metadata": {
    "collapsed": false
   },
   "outputs": [
    {
     "data": {
      "text/plain": [
       "10"
      ]
     },
     "execution_count": 101,
     "metadata": {},
     "output_type": "execute_result"
    }
   ],
   "source": [
    "grid_search.shape[0]"
   ]
  },
  {
   "cell_type": "code",
   "execution_count": 80,
   "metadata": {
    "collapsed": false
   },
   "outputs": [
    {
     "data": {
      "text/plain": [
       "{'area_m': 971,\n",
       " 'balance_trade': 553,\n",
       " 'big_road1_km': 1286,\n",
       " 'brent': 815,\n",
       " 'build_year': 1371,\n",
       " 'cpi': 132,\n",
       " 'deposits_growth': 439,\n",
       " 'eurrub': 824,\n",
       " 'fitness_km': 1331,\n",
       " 'floor': 1210,\n",
       " 'full_sq': 2583,\n",
       " 'gdp_quart': 262,\n",
       " 'gdp_quart_growth': 176,\n",
       " 'green_zone_km': 1208,\n",
       " 'id': 2196,\n",
       " 'industrial_km': 1405,\n",
       " 'kindergarten_km': 2251,\n",
       " 'max_floor': 1022,\n",
       " 'metro_km_avto': 1576,\n",
       " 'metro_min_avto': 1231,\n",
       " 'micex': 1069,\n",
       " 'micex_cbi_tr': 871,\n",
       " 'micex_rgbi_tr': 779,\n",
       " 'month': 600,\n",
       " 'net_capital_export': 396,\n",
       " 'oil_urals': 305,\n",
       " 'park_km': 1427,\n",
       " 'ppi': 289,\n",
       " 'preschool_km': 1075,\n",
       " 'product_type': 165,\n",
       " 'public_healthcare_km': 1697,\n",
       " 'public_transport_station_km': 1151,\n",
       " 'radiation_km': 1448,\n",
       " 'railroad_km': 1364,\n",
       " 'raion_popul': 1068,\n",
       " 'rent_price_1room_bus': 393,\n",
       " 'rent_price_2room_bus': 358,\n",
       " 'rent_price_3room_bus': 406,\n",
       " 'rent_price_4+room_bus': 435,\n",
       " 'rts': 668,\n",
       " 'school_km': 1627,\n",
       " 'shopping_centers_km': 1322,\n",
       " 'sub_area': 578,\n",
       " 'timestamp': 702,\n",
       " 'usdrub': 686,\n",
       " 'water_km': 1354,\n",
       " 'year': 145}"
      ]
     },
     "execution_count": 80,
     "metadata": {},
     "output_type": "execute_result"
    }
   ],
   "source": [
    "gbm.get_score()"
   ]
  },
  {
   "cell_type": "code",
   "execution_count": 81,
   "metadata": {
    "collapsed": false
   },
   "outputs": [],
   "source": [
    "Y_pred = gbm.predict(xgb.DMatrix(test))"
   ]
  },
  {
   "cell_type": "code",
   "execution_count": 82,
   "metadata": {
    "collapsed": false
   },
   "outputs": [
    {
     "data": {
      "text/plain": [
       "7662"
      ]
     },
     "execution_count": 82,
     "metadata": {},
     "output_type": "execute_result"
    }
   ],
   "source": [
    "len(Y_pred)"
   ]
  },
  {
   "cell_type": "code",
   "execution_count": 83,
   "metadata": {
    "collapsed": false
   },
   "outputs": [
    {
     "data": {
      "text/plain": [
       "6715318.5"
      ]
     },
     "execution_count": 83,
     "metadata": {},
     "output_type": "execute_result"
    }
   ],
   "source": [
    "Y_pred[10] # 1st"
   ]
  },
  {
   "cell_type": "code",
   "execution_count": null,
   "metadata": {
    "collapsed": false
   },
   "outputs": [],
   "source": [
    "Y_pred[10] # 2nd"
   ]
  },
  {
   "cell_type": "code",
   "execution_count": null,
   "metadata": {
    "collapsed": false
   },
   "outputs": [],
   "source": [
    "Y_pred[10] # 3rd"
   ]
  },
  {
   "cell_type": "code",
   "execution_count": 84,
   "metadata": {
    "collapsed": false
   },
   "outputs": [
    {
     "data": {
      "text/html": [
       "<div>\n",
       "<style>\n",
       "    .dataframe thead tr:only-child th {\n",
       "        text-align: right;\n",
       "    }\n",
       "\n",
       "    .dataframe thead th {\n",
       "        text-align: left;\n",
       "    }\n",
       "\n",
       "    .dataframe tbody tr th {\n",
       "        vertical-align: top;\n",
       "    }\n",
       "</style>\n",
       "<table border=\"1\" class=\"dataframe\">\n",
       "  <thead>\n",
       "    <tr style=\"text-align: right;\">\n",
       "      <th></th>\n",
       "      <th>id</th>\n",
       "      <th>price_doc</th>\n",
       "    </tr>\n",
       "  </thead>\n",
       "  <tbody>\n",
       "    <tr>\n",
       "      <th>0</th>\n",
       "      <td>30474</td>\n",
       "      <td>4476408.0</td>\n",
       "    </tr>\n",
       "    <tr>\n",
       "      <th>1</th>\n",
       "      <td>30475</td>\n",
       "      <td>8434186.0</td>\n",
       "    </tr>\n",
       "    <tr>\n",
       "      <th>2</th>\n",
       "      <td>30476</td>\n",
       "      <td>5859610.5</td>\n",
       "    </tr>\n",
       "    <tr>\n",
       "      <th>3</th>\n",
       "      <td>30477</td>\n",
       "      <td>6629910.5</td>\n",
       "    </tr>\n",
       "    <tr>\n",
       "      <th>4</th>\n",
       "      <td>30478</td>\n",
       "      <td>5322163.5</td>\n",
       "    </tr>\n",
       "    <tr>\n",
       "      <th>5</th>\n",
       "      <td>30479</td>\n",
       "      <td>10751806.0</td>\n",
       "    </tr>\n",
       "    <tr>\n",
       "      <th>6</th>\n",
       "      <td>30480</td>\n",
       "      <td>5651765.5</td>\n",
       "    </tr>\n",
       "    <tr>\n",
       "      <th>7</th>\n",
       "      <td>30481</td>\n",
       "      <td>4814969.5</td>\n",
       "    </tr>\n",
       "    <tr>\n",
       "      <th>8</th>\n",
       "      <td>30482</td>\n",
       "      <td>5393673.0</td>\n",
       "    </tr>\n",
       "    <tr>\n",
       "      <th>9</th>\n",
       "      <td>30483</td>\n",
       "      <td>5787889.0</td>\n",
       "    </tr>\n",
       "  </tbody>\n",
       "</table>\n",
       "</div>"
      ],
      "text/plain": [
       "      id   price_doc\n",
       "0  30474   4476408.0\n",
       "1  30475   8434186.0\n",
       "2  30476   5859610.5\n",
       "3  30477   6629910.5\n",
       "4  30478   5322163.5\n",
       "5  30479  10751806.0\n",
       "6  30480   5651765.5\n",
       "7  30481   4814969.5\n",
       "8  30482   5393673.0\n",
       "9  30483   5787889.0"
      ]
     },
     "execution_count": 84,
     "metadata": {},
     "output_type": "execute_result"
    }
   ],
   "source": [
    "submission = pd.DataFrame()\n",
    "submission['id'] = test[\"id\"]\n",
    "submission[\"price_doc\"] = Y_pred\n",
    "submission.head(10)"
   ]
  },
  {
   "cell_type": "code",
   "execution_count": 85,
   "metadata": {
    "collapsed": false
   },
   "outputs": [
    {
     "data": {
      "text/html": [
       "<div>\n",
       "<style>\n",
       "    .dataframe thead tr:only-child th {\n",
       "        text-align: right;\n",
       "    }\n",
       "\n",
       "    .dataframe thead th {\n",
       "        text-align: left;\n",
       "    }\n",
       "\n",
       "    .dataframe tbody tr th {\n",
       "        vertical-align: top;\n",
       "    }\n",
       "</style>\n",
       "<table border=\"1\" class=\"dataframe\">\n",
       "  <thead>\n",
       "    <tr style=\"text-align: right;\">\n",
       "      <th></th>\n",
       "      <th>id</th>\n",
       "      <th>price_doc</th>\n",
       "    </tr>\n",
       "  </thead>\n",
       "  <tbody>\n",
       "    <tr>\n",
       "      <th>459</th>\n",
       "      <td>30933</td>\n",
       "      <td>-14899.223633</td>\n",
       "    </tr>\n",
       "  </tbody>\n",
       "</table>\n",
       "</div>"
      ],
      "text/plain": [
       "        id     price_doc\n",
       "459  30933 -14899.223633"
      ]
     },
     "execution_count": 85,
     "metadata": {},
     "output_type": "execute_result"
    }
   ],
   "source": [
    "submission.loc[submission.price_doc < 0, ] "
   ]
  },
  {
   "cell_type": "code",
   "execution_count": 86,
   "metadata": {
    "collapsed": true
   },
   "outputs": [],
   "source": [
    "submission.loc[submission.price_doc < 0, \"price_doc\"] *= -1"
   ]
  },
  {
   "cell_type": "code",
   "execution_count": 87,
   "metadata": {
    "collapsed": false
   },
   "outputs": [
    {
     "data": {
      "text/html": [
       "<div>\n",
       "<style>\n",
       "    .dataframe thead tr:only-child th {\n",
       "        text-align: right;\n",
       "    }\n",
       "\n",
       "    .dataframe thead th {\n",
       "        text-align: left;\n",
       "    }\n",
       "\n",
       "    .dataframe tbody tr th {\n",
       "        vertical-align: top;\n",
       "    }\n",
       "</style>\n",
       "<table border=\"1\" class=\"dataframe\">\n",
       "  <thead>\n",
       "    <tr style=\"text-align: right;\">\n",
       "      <th></th>\n",
       "      <th>id</th>\n",
       "      <th>price_doc</th>\n",
       "    </tr>\n",
       "  </thead>\n",
       "  <tbody>\n",
       "  </tbody>\n",
       "</table>\n",
       "</div>"
      ],
      "text/plain": [
       "Empty DataFrame\n",
       "Columns: [id, price_doc]\n",
       "Index: []"
      ]
     },
     "execution_count": 87,
     "metadata": {},
     "output_type": "execute_result"
    }
   ],
   "source": [
    "submission.loc[submission.price_doc < 0,]"
   ]
  },
  {
   "cell_type": "code",
   "execution_count": 88,
   "metadata": {
    "collapsed": false
   },
   "outputs": [
    {
     "data": {
      "text/html": [
       "<div>\n",
       "<style>\n",
       "    .dataframe thead tr:only-child th {\n",
       "        text-align: right;\n",
       "    }\n",
       "\n",
       "    .dataframe thead th {\n",
       "        text-align: left;\n",
       "    }\n",
       "\n",
       "    .dataframe tbody tr th {\n",
       "        vertical-align: top;\n",
       "    }\n",
       "</style>\n",
       "<table border=\"1\" class=\"dataframe\">\n",
       "  <thead>\n",
       "    <tr style=\"text-align: right;\">\n",
       "      <th></th>\n",
       "      <th>id</th>\n",
       "      <th>price_doc</th>\n",
       "    </tr>\n",
       "  </thead>\n",
       "  <tbody>\n",
       "    <tr>\n",
       "      <th>0</th>\n",
       "      <td>30474</td>\n",
       "      <td>4476408.0</td>\n",
       "    </tr>\n",
       "    <tr>\n",
       "      <th>1</th>\n",
       "      <td>30475</td>\n",
       "      <td>8434186.0</td>\n",
       "    </tr>\n",
       "    <tr>\n",
       "      <th>2</th>\n",
       "      <td>30476</td>\n",
       "      <td>5859610.5</td>\n",
       "    </tr>\n",
       "    <tr>\n",
       "      <th>3</th>\n",
       "      <td>30477</td>\n",
       "      <td>6629910.5</td>\n",
       "    </tr>\n",
       "    <tr>\n",
       "      <th>4</th>\n",
       "      <td>30478</td>\n",
       "      <td>5322163.5</td>\n",
       "    </tr>\n",
       "    <tr>\n",
       "      <th>5</th>\n",
       "      <td>30479</td>\n",
       "      <td>10751806.0</td>\n",
       "    </tr>\n",
       "    <tr>\n",
       "      <th>6</th>\n",
       "      <td>30480</td>\n",
       "      <td>5651765.5</td>\n",
       "    </tr>\n",
       "    <tr>\n",
       "      <th>7</th>\n",
       "      <td>30481</td>\n",
       "      <td>4814969.5</td>\n",
       "    </tr>\n",
       "    <tr>\n",
       "      <th>8</th>\n",
       "      <td>30482</td>\n",
       "      <td>5393673.0</td>\n",
       "    </tr>\n",
       "    <tr>\n",
       "      <th>9</th>\n",
       "      <td>30483</td>\n",
       "      <td>5787889.0</td>\n",
       "    </tr>\n",
       "  </tbody>\n",
       "</table>\n",
       "</div>"
      ],
      "text/plain": [
       "      id   price_doc\n",
       "0  30474   4476408.0\n",
       "1  30475   8434186.0\n",
       "2  30476   5859610.5\n",
       "3  30477   6629910.5\n",
       "4  30478   5322163.5\n",
       "5  30479  10751806.0\n",
       "6  30480   5651765.5\n",
       "7  30481   4814969.5\n",
       "8  30482   5393673.0\n",
       "9  30483   5787889.0"
      ]
     },
     "execution_count": 88,
     "metadata": {},
     "output_type": "execute_result"
    }
   ],
   "source": [
    "submission.head(10)"
   ]
  },
  {
   "cell_type": "code",
   "execution_count": 89,
   "metadata": {
    "collapsed": true
   },
   "outputs": [],
   "source": [
    "submission.to_csv(\"prediction_v20.csv\", index = False)"
   ]
  },
  {
   "cell_type": "code",
   "execution_count": null,
   "metadata": {
    "collapsed": true
   },
   "outputs": [],
   "source": []
  }
 ],
 "metadata": {
  "kernelspec": {
   "display_name": "Python 2",
   "language": "python",
   "name": "python2"
  },
  "language_info": {
   "codemirror_mode": {
    "name": "ipython",
    "version": 2
   },
   "file_extension": ".py",
   "mimetype": "text/x-python",
   "name": "python",
   "nbconvert_exporter": "python",
   "pygments_lexer": "ipython2",
   "version": "2.7.13"
  }
 },
 "nbformat": 4,
 "nbformat_minor": 2
}
